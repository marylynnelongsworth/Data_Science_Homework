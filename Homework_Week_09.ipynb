{
 "cells": [
  {
   "cell_type": "markdown",
   "metadata": {},
   "source": [
    "# Week_09_Homework"
   ]
  },
  {
   "cell_type": "markdown",
   "metadata": {},
   "source": [
    "## 1. Create two histograms in a subplot (vertical or horizontal is fine) that show the distribution of reviews_per_month and number_of_reviews in Belize Airbnb data \n",
    "*  ### a. How do you choose your bin size?\n",
    "        * I chose my bin size manually, using the df.hist(bins = n) method, and opting for the width to be based on the \n",
    "        number of bins dividing up the range between the minimum and maximum value. This was, of course, after I looked \n",
    "        at the quarterlies and saw just how many observations were settled in a group of low values. I selected high \n",
    "        numbers of bins to return more detail in the smaller values, while the outliers all but disasspeared. "
   ]
  },
  {
   "cell_type": "code",
   "execution_count": 20,
   "metadata": {},
   "outputs": [
    {
     "data": {
      "text/plain": [
       "count    1810.000000\n",
       "mean        0.538088\n",
       "std         0.662154\n",
       "min         0.010000\n",
       "25%         0.110000\n",
       "50%         0.275000\n",
       "75%         0.700000\n",
       "max         5.920000\n",
       "Name: reviews_per_month, dtype: float64"
      ]
     },
     "execution_count": 20,
     "metadata": {},
     "output_type": "execute_result"
    }
   ],
   "source": [
    "# Reviews Per Month Distribution\n",
    "import numpy as np\n",
    "import pandas as pd\n",
    "import matplotlib.pyplot as plt\n",
    "\n",
    "belize_df = pd.read_csv ('belize_airbnb_listings.csv')\n",
    "belize_df['reviews_per_month'].describe()"
   ]
  },
  {
   "cell_type": "code",
   "execution_count": 21,
   "metadata": {},
   "outputs": [
    {
     "data": {
      "text/plain": [
       "<AxesSubplot:>"
      ]
     },
     "execution_count": 21,
     "metadata": {},
     "output_type": "execute_result"
    },
    {
     "data": {
      "image/png": "[encoded data removed]",
      "text/plain": [
       "<Figure size 432x288 with 1 Axes>"
      ]
     },
     "metadata": {
      "needs_background": "light"
     },
     "output_type": "display_data"
    }
   ],
   "source": [
    "belize_df['reviews_per_month'].hist(bins = 50)"
   ]
  },
  {
   "cell_type": "code",
   "execution_count": 22,
   "metadata": {},
   "outputs": [
    {
     "data": {
      "text/plain": [
       "count    2796.000000\n",
       "mean       14.453505\n",
       "std        30.327768\n",
       "min         0.000000\n",
       "25%         0.000000\n",
       "50%         2.000000\n",
       "75%        13.000000\n",
       "max       316.000000\n",
       "Name: number_of_reviews, dtype: float64"
      ]
     },
     "execution_count": 22,
     "metadata": {},
     "output_type": "execute_result"
    }
   ],
   "source": [
    "# Number of reviews\n",
    "import numpy as np\n",
    "\n",
    "belize_df = pd.read_csv ('belize_airbnb_listings.csv')\n",
    "belize_df['number_of_reviews'].describe()"
   ]
  },
  {
   "cell_type": "code",
   "execution_count": 23,
   "metadata": {},
   "outputs": [
    {
     "data": {
      "text/plain": [
       "<AxesSubplot:>"
      ]
     },
     "execution_count": 23,
     "metadata": {},
     "output_type": "execute_result"
    },
    {
     "data": {
      "image/png": "[encoded data removed]",
      "text/plain": [
       "<Figure size 432x288 with 1 Axes>"
      ]
     },
     "metadata": {
      "needs_background": "light"
     },
     "output_type": "display_data"
    }
   ],
   "source": [
    "belize_df['number_of_reviews'].hist(bins = 84)"
   ]
  },
  {
   "cell_type": "markdown",
   "metadata": {},
   "source": [
    "# 2. Create a box and whisker plot for availability_365. What does this show you?\n",
    "* ### It shows me that the average availability for any property is around 350 days. \n",
    "* ### 25% of the properties are 364 and above, while 75% are available for around 225 days or more (this is not looking at the statistics table, but at the boxplot alone. \n",
    "* ### A vast amount of the properties have at least a few days of availablity, likely a week, while the outliers have between no days and only a couple of days of availability. "
   ]
  },
  {
   "cell_type": "code",
   "execution_count": 16,
   "metadata": {},
   "outputs": [
    {
     "data": {
      "text/plain": [
       "count    2796.000000\n",
       "mean      280.315451\n",
       "std       120.617632\n",
       "min         0.000000\n",
       "25%       221.000000\n",
       "50%       349.000000\n",
       "75%       364.000000\n",
       "max       365.000000\n",
       "Name: availability_365, dtype: float64"
      ]
     },
     "execution_count": 16,
     "metadata": {},
     "output_type": "execute_result"
    }
   ],
   "source": [
    "# Number of reviews\n",
    "import numpy as np\n",
    "\n",
    "belize_df = pd.read_csv ('belize_airbnb_listings.csv')\n",
    "belize_df['availability_365'].describe()"
   ]
  },
  {
   "cell_type": "code",
   "execution_count": 24,
   "metadata": {},
   "outputs": [
    {
     "data": {
      "text/plain": [
       "{'whiskers': [<matplotlib.lines.Line2D at 0x2ad83282250>,\n",
       "  <matplotlib.lines.Line2D at 0x2ad832825b0>],\n",
       " 'caps': [<matplotlib.lines.Line2D at 0x2ad83282910>,\n",
       "  <matplotlib.lines.Line2D at 0x2ad83282c70>],\n",
       " 'boxes': [<matplotlib.lines.Line2D at 0x2ad83272eb0>],\n",
       " 'medians': [<matplotlib.lines.Line2D at 0x2ad83282fd0>],\n",
       " 'fliers': [<matplotlib.lines.Line2D at 0x2ad8328e370>],\n",
       " 'means': []}"
      ]
     },
     "execution_count": 24,
     "metadata": {},
     "output_type": "execute_result"
    },
    {
     "data": {
      "image/png": "[encoded data removed]",
      "text/plain": [
       "<Figure size 360x1440 with 1 Axes>"
      ]
     },
     "metadata": {
      "needs_background": "light"
     },
     "output_type": "display_data"
    }
   ],
   "source": [
    "fig, ax = plt.subplots(figsize = (5,20))\n",
    "ax.boxplot(belize_df['availability_365'])"
   ]
  },
  {
   "cell_type": "markdown",
   "metadata": {},
   "source": [
    "## 3.\tWhat is the probability that the price for an Airbnb is under $50?\n",
    "*  ### 0.0175 or 1.7% or 2 out of 100\n",
    "        \n",
    "*  ### a.  How do you choose your bin size? What do you notice about these records? Hint: look at the other columns.\n",
    "            * Average price of Airbnb properties is about $225, but ranges within $150 to $400\n",
    "            * Average price of Airbnb properties under $50 is about $40, but ranges between $25 to $49\n",
    "            * There are only 49 available properties for rental under $50\n",
    "                * None of the under $50 group were hotel rooms\n",
    "            * Average Minimum Night stay is 2 days, but for Under $50, it's only 1\n",
    "        \n",
    "*  ###  b.\tWhat distribution does this data most closely fit?\n",
    "            * Right skew data distribution\n"
   ]
  },
  {
   "cell_type": "code",
   "execution_count": 18,
   "metadata": {},
   "outputs": [
    {
     "name": "stdout",
     "output_type": "stream",
     "text": [
      "2796\n",
      "49\n",
      "0.017525035765379112\n"
     ]
    }
   ],
   "source": [
    "# Probability that the price for an Airbnb is Under $50 - 1.8%  or nearly 2 out of 100\n",
    "properties = belize_df['price'].count()\n",
    "under_50 = belize_df['price'][belize_df['price'] < 50.0].count()\n",
    "probability = under_50/properties\n",
    "\n",
    "print(properties)\n",
    "print(under_50)\n",
    "print(probability)"
   ]
  },
  {
   "cell_type": "code",
   "execution_count": 19,
   "metadata": {},
   "outputs": [
    {
     "data": {
      "text/plain": [
       "count     2796.000000\n",
       "mean       357.102289\n",
       "std        563.124825\n",
       "min         20.000000\n",
       "25%        135.000000\n",
       "50%        220.000000\n",
       "75%        394.250000\n",
       "max      11788.000000\n",
       "Name: price, dtype: float64"
      ]
     },
     "execution_count": 19,
     "metadata": {},
     "output_type": "execute_result"
    }
   ],
   "source": [
    "belize_df['price'].describe()"
   ]
  },
  {
   "cell_type": "code",
   "execution_count": 25,
   "metadata": {},
   "outputs": [
    {
     "data": {
      "text/plain": [
       "<AxesSubplot:ylabel='Frequency'>"
      ]
     },
     "execution_count": 25,
     "metadata": {},
     "output_type": "execute_result"
    },
    {
     "data": {
      "image/png": "[encoded data removed]",
      "text/plain": [
       "<Figure size 1440x720 with 1 Axes>"
      ]
     },
     "metadata": {
      "needs_background": "light"
     },
     "output_type": "display_data"
    }
   ],
   "source": [
    "fig, ax = plt.subplots(figsize = (20,10))\n",
    "plt.xticks(np.arange(0, 12000, 500))\n",
    "belize_df['price'].plot.hist(bins = 220)"
   ]
  },
  {
   "cell_type": "code",
   "execution_count": 27,
   "metadata": {},
   "outputs": [
    {
     "data": {
      "text/plain": [
       "room_type\n",
       "Entire home/apt    1787\n",
       "Hotel room          190\n",
       "Private room        799\n",
       "Shared room          20\n",
       "Name: id, dtype: int64"
      ]
     },
     "execution_count": 27,
     "metadata": {},
     "output_type": "execute_result"
    }
   ],
   "source": [
    "# All available Room Types - 2796 properties available\n",
    "\n",
    "belize_df.groupby(['room_type'])['id'].count()"
   ]
  },
  {
   "cell_type": "code",
   "execution_count": 28,
   "metadata": {},
   "outputs": [
    {
     "name": "stdout",
     "output_type": "stream",
     "text": [
      "Probability of an Entire home or Apartment  0.6391273247496424\n",
      "Probability of a Hotel rooom  0.06795422031473533\n",
      "Probability of a Private room  0.2857653791130186\n",
      "Probability of a Shared room  0.00715307582260372\n"
     ]
    }
   ],
   "source": [
    "# All available room types probabilities \n",
    "#   Entire Home/Apartment - 63.9%\n",
    "#   Hotel room            -  6.8%\n",
    "#   Private Room          - 28.6%\n",
    "#   Shared Room           -  0.7%\n",
    "\n",
    "all_home_apt = belize_df['room_type'][belize_df['room_type'] == 'Entire home/apt'].count()\n",
    "all_hotel = belize_df['room_type'][belize_df['room_type'] == 'Hotel room'].count()\n",
    "all_pvt_room = belize_df['room_type'][belize_df['room_type'] == 'Private room'].count()\n",
    "all_shared_room = belize_df['room_type'][belize_df['room_type'] == 'Shared room'].count()\n",
    "\n",
    "print(\"Probability of an Entire home or Apartment \",all_home_apt/properties)\n",
    "print(\"Probability of a Hotel rooom \",all_hotel/properties)\n",
    "print(\"Probability of a Private room \",all_pvt_room/properties)\n",
    "print(\"Probability of a Shared room \",all_shared_room/properties)"
   ]
  },
  {
   "cell_type": "code",
   "execution_count": 29,
   "metadata": {},
   "outputs": [
    {
     "data": {
      "text/plain": [
       "{'whiskers': [<matplotlib.lines.Line2D at 0x2ad837154c0>,\n",
       "  <matplotlib.lines.Line2D at 0x2ad83715820>],\n",
       " 'caps': [<matplotlib.lines.Line2D at 0x2ad83715b80>,\n",
       "  <matplotlib.lines.Line2D at 0x2ad83715ee0>],\n",
       " 'boxes': [<matplotlib.lines.Line2D at 0x2ad83715160>],\n",
       " 'medians': [<matplotlib.lines.Line2D at 0x2ad8371e280>],\n",
       " 'fliers': [],\n",
       " 'means': []}"
      ]
     },
     "execution_count": 29,
     "metadata": {},
     "output_type": "execute_result"
    },
    {
     "data": {
      "image/png": "[encoded data removed]",
      "text/plain": [
       "<Figure size 360x1440 with 1 Axes>"
      ]
     },
     "metadata": {
      "needs_background": "light"
     },
     "output_type": "display_data"
    }
   ],
   "source": [
    "# Boxplot of Price Average without Outliers\n",
    "\n",
    "fig, ax = plt.subplots(figsize = (5,20))\n",
    "ax.boxplot(belize_df['price'], 0, '')"
   ]
  },
  {
   "cell_type": "code",
   "execution_count": 30,
   "metadata": {},
   "outputs": [
    {
     "ename": "NameError",
     "evalue": "name 'bnb_under_50' is not defined",
     "output_type": "error",
     "traceback": [
      "\u001b[1;31m---------------------------------------------------------------------------\u001b[0m",
      "\u001b[1;31mNameError\u001b[0m                                 Traceback (most recent call last)",
      "\u001b[1;32m<ipython-input-30-045eeb0e2185>\u001b[0m in \u001b[0;36m<module>\u001b[1;34m\u001b[0m\n\u001b[0;32m      1\u001b[0m \u001b[1;31m# Room Types available for UNDER $50 - Note: only 40 places available\u001b[0m\u001b[1;33m\u001b[0m\u001b[1;33m\u001b[0m\u001b[1;33m\u001b[0m\u001b[0m\n\u001b[0;32m      2\u001b[0m \u001b[1;33m\u001b[0m\u001b[0m\n\u001b[1;32m----> 3\u001b[1;33m \u001b[0mbnb_under_50\u001b[0m\u001b[1;33m.\u001b[0m\u001b[0mgroupby\u001b[0m\u001b[1;33m(\u001b[0m\u001b[1;33m[\u001b[0m\u001b[1;34m'room_type'\u001b[0m\u001b[1;33m]\u001b[0m\u001b[1;33m)\u001b[0m\u001b[1;33m[\u001b[0m\u001b[1;34m'id'\u001b[0m\u001b[1;33m]\u001b[0m\u001b[1;33m.\u001b[0m\u001b[0mcount\u001b[0m\u001b[1;33m(\u001b[0m\u001b[1;33m)\u001b[0m\u001b[1;33m\u001b[0m\u001b[1;33m\u001b[0m\u001b[0m\n\u001b[0m",
      "\u001b[1;31mNameError\u001b[0m: name 'bnb_under_50' is not defined"
     ]
    }
   ],
   "source": [
    "# Room Types available for UNDER $50 - Note: only 40 places available\n",
    "\n",
    "bnb_under_50.groupby(['room_type'])['id'].count()"
   ]
  },
  {
   "cell_type": "code",
   "execution_count": 32,
   "metadata": {},
   "outputs": [
    {
     "name": "stdout",
     "output_type": "stream",
     "text": [
      "Probability of an Entire home or Apartment $50 or under  0.2653061224489796\n",
      "Probability of a Private room $50 or under  0.5510204081632653\n",
      "Probability of a Shared room $50 or under  0.1836734693877551\n"
     ]
    }
   ],
   "source": [
    "# Probabilities for getting a particular room type UNDER $50 \n",
    "#   Entire Home/Apartment - 26.5%\n",
    "#   Hotel room            -  0.0%\n",
    "#   Private Room          - 55.1%\n",
    "#   Shared Room           - 18.4%\n",
    "\n",
    "bnb_under_50 = belize_df.loc[belize_df[\"price\"] < 50 ]\n",
    "under_50_home_apt = bnb_under_50['room_type'][bnb_under_50['room_type'] == 'Entire home/apt'].count()\n",
    "under_50_pvt_room = bnb_under_50['room_type'][bnb_under_50['room_type'] == 'Private room'].count()\n",
    "under_50_shared_room = bnb_under_50['room_type'][bnb_under_50['room_type'] == 'Shared room'].count()\n",
    "under_50_properties = bnb_under_50['id'].count()\n",
    "\n",
    "print(\"Probability of an Entire home or Apartment $50 or under \",under_50_home_apt/under_50_properties)\n",
    "print(\"Probability of a Private room $50 or under \",under_50_pvt_room/under_50_properties)\n",
    "print(\"Probability of a Shared room $50 or under \",under_50_shared_room/under_50_properties)"
   ]
  },
  {
   "cell_type": "code",
   "execution_count": 33,
   "metadata": {},
   "outputs": [
    {
     "data": {
      "text/plain": [
       "{'whiskers': [<matplotlib.lines.Line2D at 0x2ad83781a30>,\n",
       "  <matplotlib.lines.Line2D at 0x2ad83781d90>],\n",
       " 'caps': [<matplotlib.lines.Line2D at 0x2ad83790130>,\n",
       "  <matplotlib.lines.Line2D at 0x2ad837903d0>],\n",
       " 'boxes': [<matplotlib.lines.Line2D at 0x2ad837816d0>],\n",
       " 'medians': [<matplotlib.lines.Line2D at 0x2ad83790730>],\n",
       " 'fliers': [],\n",
       " 'means': []}"
      ]
     },
     "execution_count": 33,
     "metadata": {},
     "output_type": "execute_result"
    },
    {
     "data": {
      "image/png": "[encoded data removed]",
      "text/plain": [
       "<Figure size 360x1440 with 1 Axes>"
      ]
     },
     "metadata": {
      "needs_background": "light"
     },
     "output_type": "display_data"
    }
   ],
   "source": [
    "# Boxplot of Properties Under $50 price average without Outliers\n",
    "\n",
    "bnb_under_50 = belize_df.loc[belize_df[\"price\"] < 50 ]\n",
    "fig, ax = plt.subplots(figsize = (5,20))\n",
    "ax.boxplot(bnb_under_50['price'], 0, '')"
   ]
  },
  {
   "cell_type": "code",
   "execution_count": 34,
   "metadata": {},
   "outputs": [
    {
     "data": {
      "text/plain": [
       "room_type        minimum_nights\n",
       "Entire home/apt  1                 577\n",
       "                 2                 604\n",
       "                 3                 445\n",
       "                 4                  67\n",
       "                 5                  38\n",
       "                 6                  11\n",
       "                 7                  24\n",
       "                 10                  1\n",
       "                 14                  2\n",
       "                 28                  5\n",
       "                 30                 10\n",
       "                 90                  1\n",
       "                 180                 2\n",
       "Hotel room       1                 149\n",
       "                 2                  25\n",
       "                 3                  12\n",
       "                 4                   1\n",
       "                 7                   3\n",
       "Private room     1                 542\n",
       "                 2                 179\n",
       "                 3                  60\n",
       "                 4                   3\n",
       "                 7                  10\n",
       "                 14                  1\n",
       "                 28                  1\n",
       "                 30                  2\n",
       "                 40                  1\n",
       "Shared room      1                  16\n",
       "                 2                   2\n",
       "                 3                   2\n",
       "Name: id, dtype: int64"
      ]
     },
     "execution_count": 34,
     "metadata": {},
     "output_type": "execute_result"
    }
   ],
   "source": [
    "# A look at the minimum night stay for an AirBnb\n",
    "\n",
    "belize_df.groupby([\"room_type\",\"minimum_nights\"])[\"id\"].count()"
   ]
  },
  {
   "cell_type": "code",
   "execution_count": 35,
   "metadata": {},
   "outputs": [
    {
     "data": {
      "text/plain": [
       "room_type        minimum_nights\n",
       "Entire home/apt  1                  6\n",
       "                 2                  2\n",
       "                 28                 2\n",
       "                 30                 3\n",
       "Private room     1                 17\n",
       "                 2                  4\n",
       "                 7                  6\n",
       "Shared room      1                  8\n",
       "                 2                  1\n",
       "Name: id, dtype: int64"
      ]
     },
     "execution_count": 35,
     "metadata": {},
     "output_type": "execute_result"
    }
   ],
   "source": [
    "# A look at the minimum night stay for an AirBnb Under $50\n",
    "\n",
    "bnb_under_50 = belize_df.loc[belize_df[\"price\"] < 50 ]\n",
    "bnb_under_50.groupby([\"room_type\",\"minimum_nights\"])[\"id\"].count()"
   ]
  },
  {
   "cell_type": "code",
   "execution_count": 36,
   "metadata": {},
   "outputs": [
    {
     "data": {
      "text/plain": [
       "count    2796.000000\n",
       "mean        2.263948\n",
       "std         5.669843\n",
       "min         1.000000\n",
       "25%         1.000000\n",
       "50%         2.000000\n",
       "75%         3.000000\n",
       "max       180.000000\n",
       "Name: minimum_nights, dtype: float64"
      ]
     },
     "execution_count": 36,
     "metadata": {},
     "output_type": "execute_result"
    }
   ],
   "source": [
    "#A look at the statistics for minimum night stay for an AirBnb\n",
    "\n",
    "belize_df['minimum_nights'].describe()"
   ]
  },
  {
   "cell_type": "code",
   "execution_count": 37,
   "metadata": {},
   "outputs": [
    {
     "data": {
      "text/plain": [
       "count    49.000000\n",
       "mean      4.755102\n",
       "std       8.555044\n",
       "min       1.000000\n",
       "25%       1.000000\n",
       "50%       1.000000\n",
       "75%       2.000000\n",
       "max      30.000000\n",
       "Name: minimum_nights, dtype: float64"
      ]
     },
     "execution_count": 37,
     "metadata": {},
     "output_type": "execute_result"
    }
   ],
   "source": [
    "#A look at the statistics for minimum night stay for an AirBnb Under $50\n",
    "\n",
    "bnb_under_50['minimum_nights'].describe()"
   ]
  },
  {
   "cell_type": "code",
   "execution_count": 38,
   "metadata": {},
   "outputs": [
    {
     "data": {
      "text/plain": [
       "count    2796.000000\n",
       "mean       14.453505\n",
       "std        30.327768\n",
       "min         0.000000\n",
       "25%         0.000000\n",
       "50%         2.000000\n",
       "75%        13.000000\n",
       "max       316.000000\n",
       "Name: number_of_reviews, dtype: float64"
      ]
     },
     "execution_count": 38,
     "metadata": {},
     "output_type": "execute_result"
    }
   ],
   "source": [
    "#A look at the statistics for number of reviews for an AirBnb\n",
    "\n",
    "belize_df['number_of_reviews'].describe()"
   ]
  },
  {
   "cell_type": "code",
   "execution_count": 39,
   "metadata": {},
   "outputs": [
    {
     "data": {
      "text/plain": [
       "count     49.000000\n",
       "mean      15.653061\n",
       "std       25.304439\n",
       "min        0.000000\n",
       "25%        1.000000\n",
       "50%        6.000000\n",
       "75%       16.000000\n",
       "max      126.000000\n",
       "Name: number_of_reviews, dtype: float64"
      ]
     },
     "execution_count": 39,
     "metadata": {},
     "output_type": "execute_result"
    }
   ],
   "source": [
    "#A look at the statistics for number of reviews for an AirBnb Under $50\n",
    "\n",
    "bnb_under_50['number_of_reviews'].describe()"
   ]
  },
  {
   "cell_type": "markdown",
   "metadata": {},
   "source": [
    "## 4.\tCalculate the sample variance and standard deviation for all the numerical columns in the same output. \n",
    "*  ### a.\tWhy sample variance and not population variance?\n",
    "        * Sample Variance data on only a random segment of a population, where Population Variance is getting EVERYONE \n",
    "        in the population that is being studied. Example: surveying a select number of grocery store customers vs.\n",
    "        surveying EVERY grocery store customer.\n",
    "        \n",
    "*  ###     b.\tWhat is your takeaway for each metric?\n",
    "        * Sample variance is best for working with a massive body of data, and wanting to NOT crash a computer (or brain)\n",
    "        * Population variance is great for small bodies of data\n",
    "        \n",
    "*  ###     c.\tWhat are the scales of measurement for each of these values? \n",
    "                * id = nominal\n",
    "                * latitude = nominal\n",
    "                * longitude = nominal\n",
    "                * price = ordinal\n",
    "                * minimum_nights = ordinal\n",
    "                * number_of_reviews = ordinal\n",
    "                * revies_per_month = ordinal\n",
    "                * calculated_host_listings_count = ordinal\n",
    "                * availability_365 = ordinal\n"
   ]
  },
  {
   "cell_type": "code",
   "execution_count": 13,
   "metadata": {},
   "outputs": [
    {
     "data": {
      "text/plain": [
       "id                                1.661428e+14\n",
       "host_id                           1.036327e+16\n",
       "latitude                          2.888413e-01\n",
       "longitude                         1.473608e-01\n",
       "price                             3.171096e+05\n",
       "minimum_nights                    3.214712e+01\n",
       "number_of_reviews                 9.197735e+02\n",
       "reviews_per_month                 4.384482e-01\n",
       "calculated_host_listings_count    2.674046e+03\n",
       "availability_365                  1.454861e+04\n",
       "dtype: float64"
      ]
     },
     "execution_count": 13,
     "metadata": {},
     "output_type": "execute_result"
    }
   ],
   "source": [
    "belize_df.var()"
   ]
  },
  {
   "cell_type": "code",
   "execution_count": 14,
   "metadata": {},
   "outputs": [
    {
     "data": {
      "text/plain": [
       "id                                1.288964e+07\n",
       "host_id                           1.018001e+08\n",
       "latitude                          5.374396e-01\n",
       "longitude                         3.838760e-01\n",
       "price                             5.631248e+02\n",
       "minimum_nights                    5.669843e+00\n",
       "number_of_reviews                 3.032777e+01\n",
       "reviews_per_month                 6.621542e-01\n",
       "calculated_host_listings_count    5.171118e+01\n",
       "availability_365                  1.206176e+02\n",
       "dtype: float64"
      ]
     },
     "execution_count": 14,
     "metadata": {},
     "output_type": "execute_result"
    }
   ],
   "source": [
    "belize_df.std()"
   ]
  },
  {
   "cell_type": "markdown",
   "metadata": {},
   "source": [
    "## 5.\tWhat percent of Airbnb listings in Belize are available 360 days a year or more?\n",
    "            * 39.5% \n",
    "*  ### a.\t360 days or less?\n",
    "            * 61.6%\n",
    "*  ### b.\tWhat distribution does this data most closely fit?\n",
    "            * Left Skew\n"
   ]
  },
  {
   "cell_type": "code",
   "execution_count": 43,
   "metadata": {},
   "outputs": [
    {
     "name": "stdout",
     "output_type": "stream",
     "text": [
      "Total Listings  2796\n",
      "Listings available 360 days or more  1105\n",
      "Percentage of properties available 360 days or more  39.52074391988555\n"
     ]
    }
   ],
   "source": [
    "total_listings = belize_df['availability_365'].count()\n",
    "equal_more_360 = belize_df['availability_365'][belize_df['availability_365'] >= 360].count()\n",
    "\n",
    "print(\"Total Listings \",total_listings)\n",
    "print(\"Listings available 360 days or more \", equal_more_360)\n",
    "print(\"Percentage of properties available 360 days or more \", equal_more_360/total_listings *100)"
   ]
  },
  {
   "cell_type": "code",
   "execution_count": 44,
   "metadata": {},
   "outputs": [
    {
     "name": "stdout",
     "output_type": "stream",
     "text": [
      "Total Listings  2796\n",
      "Listings available 360 days or more  1721\n",
      "Percentage of properties available 360 days or less  61.55221745350501\n"
     ]
    }
   ],
   "source": [
    "total_listings = belize_df['availability_365'].count()\n",
    "equal_less_360 = belize_df['availability_365'][belize_df['availability_365'] <= 360].count()\n",
    "\n",
    "print(\"Total Listings \",total_listings)\n",
    "print(\"Listings available 360 days or more \", equal_less_360)\n",
    "print(\"Percentage of properties available 360 days or less \", equal_less_360/total_listings *100)"
   ]
  },
  {
   "cell_type": "markdown",
   "metadata": {},
   "source": [
    "## 6.\tWhat minimum night count are 75% of Airnbnb listing in Belize greater than?\n",
    "*  ### 1 night"
   ]
  },
  {
   "cell_type": "code",
   "execution_count": 46,
   "metadata": {},
   "outputs": [
    {
     "data": {
      "text/plain": [
       "count    2796.000000\n",
       "mean        2.263948\n",
       "std         5.669843\n",
       "min         1.000000\n",
       "25%         1.000000\n",
       "50%         2.000000\n",
       "75%         3.000000\n",
       "max       180.000000\n",
       "Name: minimum_nights, dtype: float64"
      ]
     },
     "execution_count": 46,
     "metadata": {},
     "output_type": "execute_result"
    }
   ],
   "source": [
    "belize_df['minimum_nights'].describe()"
   ]
  }
 ],
 "metadata": {
  "kernelspec": {
   "display_name": "Python 3",
   "language": "python",
   "name": "python3"
  },
  "language_info": {
   "codemirror_mode": {
    "name": "ipython",
    "version": 3
   },
   "file_extension": ".py",
   "mimetype": "text/x-python",
   "name": "python",
   "nbconvert_exporter": "python",
   "pygments_lexer": "ipython3",
   "version": "3.8.5"
  }
 },
 "nbformat": 4,
 "nbformat_minor": 4
}
