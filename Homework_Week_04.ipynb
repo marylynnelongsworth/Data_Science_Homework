{
 "cells": [
  {
   "cell_type": "markdown",
   "metadata": {},
   "source": [
    "### Heroes Of Pymoli Data Analysis\n",
    "\n",
    "-----"
   ]
  },
  {
   "cell_type": "markdown",
   "metadata": {},
   "source": [
    "### Note\n",
    "* Instructions have been included for each segment. You do not have to follow them exactly, but they are included to help you think through the steps."
   ]
  },
  {
   "cell_type": "code",
   "execution_count": 369,
   "metadata": {},
   "outputs": [
    {
     "data": {
      "text/html": [
       "<div>\n",
       "<style scoped>\n",
       "    .dataframe tbody tr th:only-of-type {\n",
       "        vertical-align: middle;\n",
       "    }\n",
       "\n",
       "    .dataframe tbody tr th {\n",
       "        vertical-align: top;\n",
       "    }\n",
       "\n",
       "    .dataframe thead th {\n",
       "        text-align: right;\n",
       "    }\n",
       "</style>\n",
       "<table border=\"1\" class=\"dataframe\">\n",
       "  <thead>\n",
       "    <tr style=\"text-align: right;\">\n",
       "      <th></th>\n",
       "      <th>Purchase ID</th>\n",
       "      <th>SN</th>\n",
       "      <th>Age</th>\n",
       "      <th>Gender</th>\n",
       "      <th>Item ID</th>\n",
       "      <th>Item Name</th>\n",
       "      <th>Price</th>\n",
       "    </tr>\n",
       "  </thead>\n",
       "  <tbody>\n",
       "    <tr>\n",
       "      <th>0</th>\n",
       "      <td>0</td>\n",
       "      <td>Lisim78</td>\n",
       "      <td>20</td>\n",
       "      <td>Male</td>\n",
       "      <td>108</td>\n",
       "      <td>Extraction, Quickblade Of Trembling Hands</td>\n",
       "      <td>3.53</td>\n",
       "    </tr>\n",
       "    <tr>\n",
       "      <th>1</th>\n",
       "      <td>1</td>\n",
       "      <td>Lisovynya38</td>\n",
       "      <td>40</td>\n",
       "      <td>Male</td>\n",
       "      <td>143</td>\n",
       "      <td>Frenzied Scimitar</td>\n",
       "      <td>1.56</td>\n",
       "    </tr>\n",
       "    <tr>\n",
       "      <th>2</th>\n",
       "      <td>2</td>\n",
       "      <td>Ithergue48</td>\n",
       "      <td>24</td>\n",
       "      <td>Male</td>\n",
       "      <td>92</td>\n",
       "      <td>Final Critic</td>\n",
       "      <td>4.88</td>\n",
       "    </tr>\n",
       "    <tr>\n",
       "      <th>3</th>\n",
       "      <td>3</td>\n",
       "      <td>Chamassasya86</td>\n",
       "      <td>24</td>\n",
       "      <td>Male</td>\n",
       "      <td>100</td>\n",
       "      <td>Blindscythe</td>\n",
       "      <td>3.27</td>\n",
       "    </tr>\n",
       "    <tr>\n",
       "      <th>4</th>\n",
       "      <td>4</td>\n",
       "      <td>Iskosia90</td>\n",
       "      <td>23</td>\n",
       "      <td>Male</td>\n",
       "      <td>131</td>\n",
       "      <td>Fury</td>\n",
       "      <td>1.44</td>\n",
       "    </tr>\n",
       "    <tr>\n",
       "      <th>...</th>\n",
       "      <td>...</td>\n",
       "      <td>...</td>\n",
       "      <td>...</td>\n",
       "      <td>...</td>\n",
       "      <td>...</td>\n",
       "      <td>...</td>\n",
       "      <td>...</td>\n",
       "    </tr>\n",
       "    <tr>\n",
       "      <th>775</th>\n",
       "      <td>775</td>\n",
       "      <td>Aethedru70</td>\n",
       "      <td>21</td>\n",
       "      <td>Female</td>\n",
       "      <td>60</td>\n",
       "      <td>Wolf</td>\n",
       "      <td>3.54</td>\n",
       "    </tr>\n",
       "    <tr>\n",
       "      <th>776</th>\n",
       "      <td>776</td>\n",
       "      <td>Iral74</td>\n",
       "      <td>21</td>\n",
       "      <td>Male</td>\n",
       "      <td>164</td>\n",
       "      <td>Exiled Doomblade</td>\n",
       "      <td>1.63</td>\n",
       "    </tr>\n",
       "    <tr>\n",
       "      <th>777</th>\n",
       "      <td>777</td>\n",
       "      <td>Yathecal72</td>\n",
       "      <td>20</td>\n",
       "      <td>Male</td>\n",
       "      <td>67</td>\n",
       "      <td>Celeste, Incarnation of the Corrupted</td>\n",
       "      <td>3.46</td>\n",
       "    </tr>\n",
       "    <tr>\n",
       "      <th>778</th>\n",
       "      <td>778</td>\n",
       "      <td>Sisur91</td>\n",
       "      <td>7</td>\n",
       "      <td>Male</td>\n",
       "      <td>101</td>\n",
       "      <td>Final Critic</td>\n",
       "      <td>4.19</td>\n",
       "    </tr>\n",
       "    <tr>\n",
       "      <th>779</th>\n",
       "      <td>779</td>\n",
       "      <td>Ennrian78</td>\n",
       "      <td>24</td>\n",
       "      <td>Male</td>\n",
       "      <td>50</td>\n",
       "      <td>Dawn</td>\n",
       "      <td>4.60</td>\n",
       "    </tr>\n",
       "  </tbody>\n",
       "</table>\n",
       "<p>780 rows × 7 columns</p>\n",
       "</div>"
      ],
      "text/plain": [
       "     Purchase ID             SN  Age  Gender  Item ID  \\\n",
       "0              0        Lisim78   20    Male      108   \n",
       "1              1    Lisovynya38   40    Male      143   \n",
       "2              2     Ithergue48   24    Male       92   \n",
       "3              3  Chamassasya86   24    Male      100   \n",
       "4              4      Iskosia90   23    Male      131   \n",
       "..           ...            ...  ...     ...      ...   \n",
       "775          775     Aethedru70   21  Female       60   \n",
       "776          776         Iral74   21    Male      164   \n",
       "777          777     Yathecal72   20    Male       67   \n",
       "778          778        Sisur91    7    Male      101   \n",
       "779          779      Ennrian78   24    Male       50   \n",
       "\n",
       "                                     Item Name  Price  \n",
       "0    Extraction, Quickblade Of Trembling Hands   3.53  \n",
       "1                            Frenzied Scimitar   1.56  \n",
       "2                                 Final Critic   4.88  \n",
       "3                                  Blindscythe   3.27  \n",
       "4                                         Fury   1.44  \n",
       "..                                         ...    ...  \n",
       "775                                       Wolf   3.54  \n",
       "776                           Exiled Doomblade   1.63  \n",
       "777      Celeste, Incarnation of the Corrupted   3.46  \n",
       "778                               Final Critic   4.19  \n",
       "779                                       Dawn   4.60  \n",
       "\n",
       "[780 rows x 7 columns]"
      ]
     },
     "execution_count": 369,
     "metadata": {},
     "output_type": "execute_result"
    }
   ],
   "source": [
    "# Dependencies and Setup\n",
    "import pandas as pd\n",
    "import numpy as np\n",
    "\n",
    "# File to Load (Remember to Change These)\n",
    "file_to_load = \"Resources/purchase_data.csv\"\n",
    "\n",
    "# Read Purchasing File and store into Pandas data frame\n",
    "purchase_data = pd.read_csv(file_to_load)\n",
    "\n",
    "# Confirming Data is There\n",
    "purchase_data"
   ]
  },
  {
   "cell_type": "markdown",
   "metadata": {},
   "source": [
    "## Player Count"
   ]
  },
  {
   "cell_type": "markdown",
   "metadata": {},
   "source": [
    "* Display the total number of players\n"
   ]
  },
  {
   "cell_type": "code",
   "execution_count": 156,
   "metadata": {},
   "outputs": [
    {
     "data": {
      "text/html": [
       "<div>\n",
       "<style scoped>\n",
       "    .dataframe tbody tr th:only-of-type {\n",
       "        vertical-align: middle;\n",
       "    }\n",
       "\n",
       "    .dataframe tbody tr th {\n",
       "        vertical-align: top;\n",
       "    }\n",
       "\n",
       "    .dataframe thead th {\n",
       "        text-align: right;\n",
       "    }\n",
       "</style>\n",
       "<table border=\"1\" class=\"dataframe\">\n",
       "  <thead>\n",
       "    <tr style=\"text-align: right;\">\n",
       "      <th></th>\n",
       "      <th>Total Players</th>\n",
       "    </tr>\n",
       "  </thead>\n",
       "  <tbody>\n",
       "    <tr>\n",
       "      <th>0</th>\n",
       "      <td>576</td>\n",
       "    </tr>\n",
       "  </tbody>\n",
       "</table>\n",
       "</div>"
      ],
      "text/plain": [
       "   Total Players\n",
       "0            576"
      ]
     },
     "execution_count": 156,
     "metadata": {},
     "output_type": "execute_result"
    }
   ],
   "source": [
    "# WINNER WINNER\n",
    "\n",
    "total_players = pd.DataFrame([purchase_data.SN.nunique()],columns = ['Total Players'])\n",
    "total_players"
   ]
  },
  {
   "cell_type": "code",
   "execution_count": 91,
   "metadata": {},
   "outputs": [
    {
     "data": {
      "text/html": [
       "<div>\n",
       "<style scoped>\n",
       "    .dataframe tbody tr th:only-of-type {\n",
       "        vertical-align: middle;\n",
       "    }\n",
       "\n",
       "    .dataframe tbody tr th {\n",
       "        vertical-align: top;\n",
       "    }\n",
       "\n",
       "    .dataframe thead th {\n",
       "        text-align: right;\n",
       "    }\n",
       "</style>\n",
       "<table border=\"1\" class=\"dataframe\">\n",
       "  <thead>\n",
       "    <tr style=\"text-align: right;\">\n",
       "      <th></th>\n",
       "      <th>SN</th>\n",
       "    </tr>\n",
       "  </thead>\n",
       "  <tbody>\n",
       "    <tr>\n",
       "      <th>nunique</th>\n",
       "      <td>576</td>\n",
       "    </tr>\n",
       "  </tbody>\n",
       "</table>\n",
       "</div>"
      ],
      "text/plain": [
       "          SN\n",
       "nunique  576"
      ]
     },
     "execution_count": 91,
     "metadata": {},
     "output_type": "execute_result"
    }
   ],
   "source": [
    "# Other Ways of getting the same number of 576\n",
    "\n",
    "#Total_Players = purchase_data.SN.nunique()\n",
    "#purchase_data[\"SN\"].nunique()\n",
    "#purchase_data.SN.agg(['nunique']).reset_index(name='Total Players')\n",
    "#purchase_data[\"SN\"].agg(['nunique']).reset_index(name=\"Total Players\")\n",
    "#purchase_data.agg({\"SN\":['nunique']})\n"
   ]
  },
  {
   "cell_type": "markdown",
   "metadata": {},
   "source": [
    "## Purchasing Analysis (Total)"
   ]
  },
  {
   "cell_type": "markdown",
   "metadata": {},
   "source": [
    "* Run basic calculations to obtain number of unique items, average price, etc.\n",
    "\n",
    "\n",
    "* Create a summary data frame to hold the results\n",
    "\n",
    "\n",
    "* Optional: give the displayed data cleaner formatting\n",
    "\n",
    "\n",
    "* Display the summary data frame\n"
   ]
  },
  {
   "cell_type": "code",
   "execution_count": 157,
   "metadata": {
    "scrolled": true
   },
   "outputs": [
    {
     "data": {
      "text/html": [
       "<div>\n",
       "<style scoped>\n",
       "    .dataframe tbody tr th:only-of-type {\n",
       "        vertical-align: middle;\n",
       "    }\n",
       "\n",
       "    .dataframe tbody tr th {\n",
       "        vertical-align: top;\n",
       "    }\n",
       "\n",
       "    .dataframe thead th {\n",
       "        text-align: right;\n",
       "    }\n",
       "</style>\n",
       "<table border=\"1\" class=\"dataframe\">\n",
       "  <thead>\n",
       "    <tr style=\"text-align: right;\">\n",
       "      <th></th>\n",
       "      <th>Number of Unique Items</th>\n",
       "      <th>Average Price</th>\n",
       "      <th>Number of Purchases</th>\n",
       "      <th>Total Revenue</th>\n",
       "    </tr>\n",
       "  </thead>\n",
       "  <tbody>\n",
       "    <tr>\n",
       "      <th>0</th>\n",
       "      <td>183</td>\n",
       "      <td>$3.05</td>\n",
       "      <td>780</td>\n",
       "      <td>$2,379.77</td>\n",
       "    </tr>\n",
       "  </tbody>\n",
       "</table>\n",
       "</div>"
      ],
      "text/plain": [
       "   Number of Unique Items Average Price  Number of Purchases Total Revenue\n",
       "0                     183         $3.05                  780     $2,379.77"
      ]
     },
     "execution_count": 157,
     "metadata": {},
     "output_type": "execute_result"
    }
   ],
   "source": [
    "count_type = purchase_data['Item ID'].nunique()\n",
    "avg_price = purchase_data['Price'].mean()\n",
    "count_purch = purchase_data['Purchase ID'].count()\n",
    "total_rev = purchase_data['Price'].sum()\n",
    "\n",
    "ct = [count_type]\n",
    "ap = \"${:,.2f}\".format(avg_price)\n",
    "cp = [count_purch]\n",
    "tr = \"${:,.2f}\".format(total_revenue)\n",
    "\n",
    "dict = {'Number of Unique Items':ct,'Average Price':ap,'Number of Purchases':cp,'Total Revenue':tr} \n",
    "\n",
    "purch_analysis = pd.DataFrame(dict)\n",
    "purch_analysis"
   ]
  },
  {
   "cell_type": "markdown",
   "metadata": {},
   "source": [
    "## Gender Demographics"
   ]
  },
  {
   "cell_type": "markdown",
   "metadata": {},
   "source": [
    "* Percentage and Count of Male Players\n",
    "\n",
    "\n",
    "* Percentage and Count of Female Players\n",
    "\n",
    "\n",
    "* Percentage and Count of Other / Non-Disclosed\n",
    "\n",
    "\n"
   ]
  },
  {
   "cell_type": "code",
   "execution_count": 240,
   "metadata": {},
   "outputs": [
    {
     "data": {
      "text/html": [
       "<div>\n",
       "<style scoped>\n",
       "    .dataframe tbody tr th:only-of-type {\n",
       "        vertical-align: middle;\n",
       "    }\n",
       "\n",
       "    .dataframe tbody tr th {\n",
       "        vertical-align: top;\n",
       "    }\n",
       "\n",
       "    .dataframe thead th {\n",
       "        text-align: right;\n",
       "    }\n",
       "</style>\n",
       "<table border=\"1\" class=\"dataframe\">\n",
       "  <thead>\n",
       "    <tr style=\"text-align: right;\">\n",
       "      <th></th>\n",
       "      <th>Total Count</th>\n",
       "      <th>Percentage of Players</th>\n",
       "    </tr>\n",
       "    <tr>\n",
       "      <th>Gender</th>\n",
       "      <th></th>\n",
       "      <th></th>\n",
       "    </tr>\n",
       "  </thead>\n",
       "  <tbody>\n",
       "    <tr>\n",
       "      <th>Male</th>\n",
       "      <td>484</td>\n",
       "      <td>84.03</td>\n",
       "    </tr>\n",
       "    <tr>\n",
       "      <th>Female</th>\n",
       "      <td>81</td>\n",
       "      <td>14.06</td>\n",
       "    </tr>\n",
       "    <tr>\n",
       "      <th>Other / Non-Disclosed</th>\n",
       "      <td>11</td>\n",
       "      <td>1.91</td>\n",
       "    </tr>\n",
       "  </tbody>\n",
       "</table>\n",
       "</div>"
      ],
      "text/plain": [
       "                       Total Count  Percentage of Players\n",
       "Gender                                                   \n",
       "Male                           484                  84.03\n",
       "Female                          81                  14.06\n",
       "Other / Non-Disclosed           11                   1.91"
      ]
     },
     "execution_count": 240,
     "metadata": {},
     "output_type": "execute_result"
    }
   ],
   "source": [
    "sn_gen = purchase_data.iloc[:,[1,3]]\n",
    "sn_gen_drop = sn_gen.drop_duplicates()\n",
    "\n",
    "gender = pd.DataFrame(sn_gen_drop)\n",
    "gen_group = gender.groupby('Gender')\n",
    "\n",
    "t_c = pd.DataFrame(gen_group.count())\n",
    "t_c.rename(columns={'SN': 'Total Count'},inplace=True)\n",
    "t_c['Percentage of Players'] = (t_c['Total Count'] / t_c['Total Count'].sum()) * 100\n",
    "\n",
    "player_gen=pd.DataFrame(t_c.sort_values(by=['Total Count'],ascending = False))\n",
    "player_gen = player_gen.round(2)\n",
    "player_gen"
   ]
  },
  {
   "cell_type": "markdown",
   "metadata": {},
   "source": [
    "\n",
    "## Purchasing Analysis (Gender)"
   ]
  },
  {
   "cell_type": "markdown",
   "metadata": {},
   "source": [
    "* Run basic calculations to obtain purchase count, avg. purchase price, avg. purchase total per person etc. by gender\n",
    "\n",
    "\n",
    "\n",
    "\n",
    "* Create a summary data frame to hold the results\n",
    "\n",
    "\n",
    "* Optional: give the displayed data cleaner formatting\n",
    "\n",
    "\n",
    "* Display the summary data frame"
   ]
  },
  {
   "cell_type": "code",
   "execution_count": 324,
   "metadata": {},
   "outputs": [
    {
     "data": {
      "text/html": [
       "<style  type=\"text/css\" >\n",
       "</style><table id=\"T_869a9c09_9a1f_11eb_8dc1_5cea1d39ab4c\" ><thead>    <tr>        <th class=\"blank level0\" ></th>        <th class=\"col_heading level0 col0\" >Purchase Count</th>        <th class=\"col_heading level0 col1\" >Avg Purchase Price</th>        <th class=\"col_heading level0 col2\" >Total Purchase Value</th>        <th class=\"col_heading level0 col3\" >Avg Total Purchase per Person</th>    </tr>    <tr>        <th class=\"index_name level0\" >Gender</th>        <th class=\"blank\" ></th>        <th class=\"blank\" ></th>        <th class=\"blank\" ></th>        <th class=\"blank\" ></th>    </tr></thead><tbody>\n",
       "                <tr>\n",
       "                        <th id=\"T_869a9c09_9a1f_11eb_8dc1_5cea1d39ab4clevel0_row0\" class=\"row_heading level0 row0\" >Female</th>\n",
       "                        <td id=\"T_869a9c09_9a1f_11eb_8dc1_5cea1d39ab4crow0_col0\" class=\"data row0 col0\" >113</td>\n",
       "                        <td id=\"T_869a9c09_9a1f_11eb_8dc1_5cea1d39ab4crow0_col1\" class=\"data row0 col1\" >$3.20</td>\n",
       "                        <td id=\"T_869a9c09_9a1f_11eb_8dc1_5cea1d39ab4crow0_col2\" class=\"data row0 col2\" >$361.94</td>\n",
       "                        <td id=\"T_869a9c09_9a1f_11eb_8dc1_5cea1d39ab4crow0_col3\" class=\"data row0 col3\" >$4.47</td>\n",
       "            </tr>\n",
       "            <tr>\n",
       "                        <th id=\"T_869a9c09_9a1f_11eb_8dc1_5cea1d39ab4clevel0_row1\" class=\"row_heading level0 row1\" >Male</th>\n",
       "                        <td id=\"T_869a9c09_9a1f_11eb_8dc1_5cea1d39ab4crow1_col0\" class=\"data row1 col0\" >652</td>\n",
       "                        <td id=\"T_869a9c09_9a1f_11eb_8dc1_5cea1d39ab4crow1_col1\" class=\"data row1 col1\" >$3.02</td>\n",
       "                        <td id=\"T_869a9c09_9a1f_11eb_8dc1_5cea1d39ab4crow1_col2\" class=\"data row1 col2\" >$1,967.64</td>\n",
       "                        <td id=\"T_869a9c09_9a1f_11eb_8dc1_5cea1d39ab4crow1_col3\" class=\"data row1 col3\" >$4.07</td>\n",
       "            </tr>\n",
       "            <tr>\n",
       "                        <th id=\"T_869a9c09_9a1f_11eb_8dc1_5cea1d39ab4clevel0_row2\" class=\"row_heading level0 row2\" >Other / Non-Disclosed</th>\n",
       "                        <td id=\"T_869a9c09_9a1f_11eb_8dc1_5cea1d39ab4crow2_col0\" class=\"data row2 col0\" >15</td>\n",
       "                        <td id=\"T_869a9c09_9a1f_11eb_8dc1_5cea1d39ab4crow2_col1\" class=\"data row2 col1\" >$3.35</td>\n",
       "                        <td id=\"T_869a9c09_9a1f_11eb_8dc1_5cea1d39ab4crow2_col2\" class=\"data row2 col2\" >$50.19</td>\n",
       "                        <td id=\"T_869a9c09_9a1f_11eb_8dc1_5cea1d39ab4crow2_col3\" class=\"data row2 col3\" >$4.56</td>\n",
       "            </tr>\n",
       "    </tbody></table>"
      ],
      "text/plain": [
       "<pandas.io.formats.style.Styler at 0x26712f37a00>"
      ]
     },
     "execution_count": 324,
     "metadata": {},
     "output_type": "execute_result"
    }
   ],
   "source": [
    "pur_gen_an = purchase_data.iloc[:,[0,3,6]]\n",
    "gen_group = pur_gen_an.groupby(\"Gender\")\n",
    "gen_count = gen_group.Gender.count()\n",
    "avg_price = gen_group.Price.mean()\n",
    "tot_val = gen_group.Price.sum()\n",
    "\n",
    "result = pd.concat([gen_count, avg_price, tot_val], axis=1)\n",
    "result.columns = ['Purchase Count', 'Avg Purchase Price','Total Purchase Value']\n",
    "result['Avg Total Purchase per Person'] = (result['Total Purchase Value'] / t_c['Total Count']) \n",
    "format_dict = {'Avg Purchase Price':'${0:,.2f}', 'Total Purchase Value':'${0:,.2f}','Avg Total Purchase per Person':'${0:,.2f}'}\n",
    "result.style.format(format_dict)"
   ]
  },
  {
   "cell_type": "markdown",
   "metadata": {},
   "source": [
    "## Age Demographics"
   ]
  },
  {
   "cell_type": "markdown",
   "metadata": {},
   "source": [
    "* Establish bins for ages\n",
    "\n",
    "\n",
    "* Categorize the existing players using the age bins. Hint: use pd.cut()\n",
    "\n",
    "\n",
    "* Calculate the numbers and percentages by age group\n",
    "\n",
    "\n",
    "* Create a summary data frame to hold the results\n",
    "\n",
    "\n",
    "* Optional: round the percentage column to two decimal points\n",
    "\n",
    "\n",
    "* Display Age Demographics Table\n"
   ]
  },
  {
   "cell_type": "code",
   "execution_count": 432,
   "metadata": {},
   "outputs": [
    {
     "data": {
      "text/html": [
       "<div>\n",
       "<style scoped>\n",
       "    .dataframe tbody tr th:only-of-type {\n",
       "        vertical-align: middle;\n",
       "    }\n",
       "\n",
       "    .dataframe tbody tr th {\n",
       "        vertical-align: top;\n",
       "    }\n",
       "\n",
       "    .dataframe thead th {\n",
       "        text-align: right;\n",
       "    }\n",
       "</style>\n",
       "<table border=\"1\" class=\"dataframe\">\n",
       "  <thead>\n",
       "    <tr style=\"text-align: right;\">\n",
       "      <th></th>\n",
       "      <th>Total Count</th>\n",
       "      <th>Percentage of Players</th>\n",
       "    </tr>\n",
       "    <tr>\n",
       "      <th>Age Range</th>\n",
       "      <th></th>\n",
       "      <th></th>\n",
       "    </tr>\n",
       "  </thead>\n",
       "  <tbody>\n",
       "    <tr>\n",
       "      <th>&lt;10</th>\n",
       "      <td>17</td>\n",
       "      <td>2.95</td>\n",
       "    </tr>\n",
       "    <tr>\n",
       "      <th>10-14</th>\n",
       "      <td>22</td>\n",
       "      <td>3.82</td>\n",
       "    </tr>\n",
       "    <tr>\n",
       "      <th>15-19</th>\n",
       "      <td>107</td>\n",
       "      <td>18.58</td>\n",
       "    </tr>\n",
       "    <tr>\n",
       "      <th>20-24</th>\n",
       "      <td>258</td>\n",
       "      <td>44.79</td>\n",
       "    </tr>\n",
       "    <tr>\n",
       "      <th>25-29</th>\n",
       "      <td>77</td>\n",
       "      <td>13.37</td>\n",
       "    </tr>\n",
       "    <tr>\n",
       "      <th>30-34</th>\n",
       "      <td>52</td>\n",
       "      <td>9.03</td>\n",
       "    </tr>\n",
       "    <tr>\n",
       "      <th>35-39</th>\n",
       "      <td>31</td>\n",
       "      <td>5.38</td>\n",
       "    </tr>\n",
       "    <tr>\n",
       "      <th>40+</th>\n",
       "      <td>12</td>\n",
       "      <td>2.08</td>\n",
       "    </tr>\n",
       "  </tbody>\n",
       "</table>\n",
       "</div>"
      ],
      "text/plain": [
       "           Total Count  Percentage of Players\n",
       "Age Range                                    \n",
       "<10                 17                   2.95\n",
       "10-14               22                   3.82\n",
       "15-19              107                  18.58\n",
       "20-24              258                  44.79\n",
       "25-29               77                  13.37\n",
       "30-34               52                   9.03\n",
       "35-39               31                   5.38\n",
       "40+                 12                   2.08"
      ]
     },
     "execution_count": 432,
     "metadata": {},
     "output_type": "execute_result"
    }
   ],
   "source": [
    "age_bins = [0 , 9, 14, 19, 24, 29, 34, 39, 100]\n",
    "age_labels = [\"<10\",\"10-14\",\"15-19\",\"20-24\",\"25-29\",\"30-34\",\"35-39\",\"40+\"]\n",
    "\n",
    "purchase_data[\"Age Range\"] = pd.cut(purchase_data[\"Age\"],age_bins, labels = age_labels)\n",
    "age_columns = purchase_data.iloc[:,[1,7]]\n",
    "age_no_dup = age_columns.drop_duplicates()\n",
    "\n",
    "age_group_by = age_no_dup.groupby(\"Age Range\")\n",
    "\n",
    "age_groups_count = age_group_by.count()\n",
    "age_groups_sum = age_groups_count.sum()\n",
    "\n",
    "age_grp = pd.DataFrame(age_group_by.count())\n",
    "age_grp.rename(columns={'SN': 'Total Count'},inplace=True)\n",
    "age_grp['Percentage of Players'] = (age_grp['Total Count']/ age_grp['Total Count'].sum()) * 100\n",
    "age_grp = age_grp.round(2)\n",
    "age_grp"
   ]
  },
  {
   "cell_type": "markdown",
   "metadata": {},
   "source": [
    "## Purchasing Analysis (Age)"
   ]
  },
  {
   "cell_type": "markdown",
   "metadata": {},
   "source": [
    "* Bin the purchase_data data frame by age\n",
    "\n",
    "\n",
    "* Run basic calculations to obtain purchase count, avg. purchase price, avg. purchase total per person etc. in the table below\n",
    "\n",
    "\n",
    "* Create a summary data frame to hold the results\n",
    "\n",
    "\n",
    "* Optional: give the displayed data cleaner formatting\n",
    "\n",
    "\n",
    "* Display the summary data frame"
   ]
  },
  {
   "cell_type": "code",
   "execution_count": 486,
   "metadata": {},
   "outputs": [
    {
     "data": {
      "text/html": [
       "<style  type=\"text/css\" >\n",
       "</style><table id=\"T_8e7d6896_9a53_11eb_bb00_5cea1d39ab4c\" ><thead>    <tr>        <th class=\"blank level0\" ></th>        <th class=\"col_heading level0 col0\" >Purchase Count</th>        <th class=\"col_heading level0 col1\" >Avg Purchase Price</th>        <th class=\"col_heading level0 col2\" >Total Purchase Value</th>        <th class=\"col_heading level0 col3\" >Avg Total Purchase per Person</th>    </tr>    <tr>        <th class=\"index_name level0\" >Age Range</th>        <th class=\"blank\" ></th>        <th class=\"blank\" ></th>        <th class=\"blank\" ></th>        <th class=\"blank\" ></th>    </tr></thead><tbody>\n",
       "                <tr>\n",
       "                        <th id=\"T_8e7d6896_9a53_11eb_bb00_5cea1d39ab4clevel0_row0\" class=\"row_heading level0 row0\" ><10</th>\n",
       "                        <td id=\"T_8e7d6896_9a53_11eb_bb00_5cea1d39ab4crow0_col0\" class=\"data row0 col0\" >23</td>\n",
       "                        <td id=\"T_8e7d6896_9a53_11eb_bb00_5cea1d39ab4crow0_col1\" class=\"data row0 col1\" >$3.35</td>\n",
       "                        <td id=\"T_8e7d6896_9a53_11eb_bb00_5cea1d39ab4crow0_col2\" class=\"data row0 col2\" >$77.13</td>\n",
       "                        <td id=\"T_8e7d6896_9a53_11eb_bb00_5cea1d39ab4crow0_col3\" class=\"data row0 col3\" >$4.54</td>\n",
       "            </tr>\n",
       "            <tr>\n",
       "                        <th id=\"T_8e7d6896_9a53_11eb_bb00_5cea1d39ab4clevel0_row1\" class=\"row_heading level0 row1\" >10-14</th>\n",
       "                        <td id=\"T_8e7d6896_9a53_11eb_bb00_5cea1d39ab4crow1_col0\" class=\"data row1 col0\" >28</td>\n",
       "                        <td id=\"T_8e7d6896_9a53_11eb_bb00_5cea1d39ab4crow1_col1\" class=\"data row1 col1\" >$2.96</td>\n",
       "                        <td id=\"T_8e7d6896_9a53_11eb_bb00_5cea1d39ab4crow1_col2\" class=\"data row1 col2\" >$82.78</td>\n",
       "                        <td id=\"T_8e7d6896_9a53_11eb_bb00_5cea1d39ab4crow1_col3\" class=\"data row1 col3\" >$3.76</td>\n",
       "            </tr>\n",
       "            <tr>\n",
       "                        <th id=\"T_8e7d6896_9a53_11eb_bb00_5cea1d39ab4clevel0_row2\" class=\"row_heading level0 row2\" >15-19</th>\n",
       "                        <td id=\"T_8e7d6896_9a53_11eb_bb00_5cea1d39ab4crow2_col0\" class=\"data row2 col0\" >136</td>\n",
       "                        <td id=\"T_8e7d6896_9a53_11eb_bb00_5cea1d39ab4crow2_col1\" class=\"data row2 col1\" >$3.04</td>\n",
       "                        <td id=\"T_8e7d6896_9a53_11eb_bb00_5cea1d39ab4crow2_col2\" class=\"data row2 col2\" >$412.89</td>\n",
       "                        <td id=\"T_8e7d6896_9a53_11eb_bb00_5cea1d39ab4crow2_col3\" class=\"data row2 col3\" >$3.86</td>\n",
       "            </tr>\n",
       "            <tr>\n",
       "                        <th id=\"T_8e7d6896_9a53_11eb_bb00_5cea1d39ab4clevel0_row3\" class=\"row_heading level0 row3\" >20-24</th>\n",
       "                        <td id=\"T_8e7d6896_9a53_11eb_bb00_5cea1d39ab4crow3_col0\" class=\"data row3 col0\" >365</td>\n",
       "                        <td id=\"T_8e7d6896_9a53_11eb_bb00_5cea1d39ab4crow3_col1\" class=\"data row3 col1\" >$3.05</td>\n",
       "                        <td id=\"T_8e7d6896_9a53_11eb_bb00_5cea1d39ab4crow3_col2\" class=\"data row3 col2\" >$1,114.06</td>\n",
       "                        <td id=\"T_8e7d6896_9a53_11eb_bb00_5cea1d39ab4crow3_col3\" class=\"data row3 col3\" >$4.32</td>\n",
       "            </tr>\n",
       "            <tr>\n",
       "                        <th id=\"T_8e7d6896_9a53_11eb_bb00_5cea1d39ab4clevel0_row4\" class=\"row_heading level0 row4\" >25-29</th>\n",
       "                        <td id=\"T_8e7d6896_9a53_11eb_bb00_5cea1d39ab4crow4_col0\" class=\"data row4 col0\" >101</td>\n",
       "                        <td id=\"T_8e7d6896_9a53_11eb_bb00_5cea1d39ab4crow4_col1\" class=\"data row4 col1\" >$2.90</td>\n",
       "                        <td id=\"T_8e7d6896_9a53_11eb_bb00_5cea1d39ab4crow4_col2\" class=\"data row4 col2\" >$293.00</td>\n",
       "                        <td id=\"T_8e7d6896_9a53_11eb_bb00_5cea1d39ab4crow4_col3\" class=\"data row4 col3\" >$3.81</td>\n",
       "            </tr>\n",
       "            <tr>\n",
       "                        <th id=\"T_8e7d6896_9a53_11eb_bb00_5cea1d39ab4clevel0_row5\" class=\"row_heading level0 row5\" >30-34</th>\n",
       "                        <td id=\"T_8e7d6896_9a53_11eb_bb00_5cea1d39ab4crow5_col0\" class=\"data row5 col0\" >73</td>\n",
       "                        <td id=\"T_8e7d6896_9a53_11eb_bb00_5cea1d39ab4crow5_col1\" class=\"data row5 col1\" >$2.93</td>\n",
       "                        <td id=\"T_8e7d6896_9a53_11eb_bb00_5cea1d39ab4crow5_col2\" class=\"data row5 col2\" >$214.00</td>\n",
       "                        <td id=\"T_8e7d6896_9a53_11eb_bb00_5cea1d39ab4crow5_col3\" class=\"data row5 col3\" >$4.12</td>\n",
       "            </tr>\n",
       "            <tr>\n",
       "                        <th id=\"T_8e7d6896_9a53_11eb_bb00_5cea1d39ab4clevel0_row6\" class=\"row_heading level0 row6\" >35-39</th>\n",
       "                        <td id=\"T_8e7d6896_9a53_11eb_bb00_5cea1d39ab4crow6_col0\" class=\"data row6 col0\" >41</td>\n",
       "                        <td id=\"T_8e7d6896_9a53_11eb_bb00_5cea1d39ab4crow6_col1\" class=\"data row6 col1\" >$3.60</td>\n",
       "                        <td id=\"T_8e7d6896_9a53_11eb_bb00_5cea1d39ab4crow6_col2\" class=\"data row6 col2\" >$147.67</td>\n",
       "                        <td id=\"T_8e7d6896_9a53_11eb_bb00_5cea1d39ab4crow6_col3\" class=\"data row6 col3\" >$4.76</td>\n",
       "            </tr>\n",
       "            <tr>\n",
       "                        <th id=\"T_8e7d6896_9a53_11eb_bb00_5cea1d39ab4clevel0_row7\" class=\"row_heading level0 row7\" >40+</th>\n",
       "                        <td id=\"T_8e7d6896_9a53_11eb_bb00_5cea1d39ab4crow7_col0\" class=\"data row7 col0\" >13</td>\n",
       "                        <td id=\"T_8e7d6896_9a53_11eb_bb00_5cea1d39ab4crow7_col1\" class=\"data row7 col1\" >$2.94</td>\n",
       "                        <td id=\"T_8e7d6896_9a53_11eb_bb00_5cea1d39ab4crow7_col2\" class=\"data row7 col2\" >$38.24</td>\n",
       "                        <td id=\"T_8e7d6896_9a53_11eb_bb00_5cea1d39ab4crow7_col3\" class=\"data row7 col3\" >$3.19</td>\n",
       "            </tr>\n",
       "    </tbody></table>"
      ],
      "text/plain": [
       "<pandas.io.formats.style.Styler at 0x26712f37070>"
      ]
     },
     "execution_count": 486,
     "metadata": {},
     "output_type": "execute_result"
    }
   ],
   "source": [
    "age_bins = [0 , 9, 14, 19, 24, 29, 34, 39, 100]\n",
    "age_labels = [\"<10\",\"10-14\",\"15-19\",\"20-24\",\"25-29\",\"30-34\",\"35-39\",\"40+\"]\n",
    "\n",
    "purchase_data[\"Age Range\"] = pd.cut(purchase_data[\"Age\"],age_bins, labels = age_labels)\n",
    "age_pur_col = purchase_data.iloc[:,[0,6,7]]\n",
    "age_pur_grp = age_pur_col.groupby(\"Age Range\")\n",
    "\n",
    "age_pur_count = age_pur_grp['Purchase ID'].count()\n",
    "age_pur_avg_pd = age_pur_grp['Price'].mean()\n",
    "age_pur_total = age_pur_grp['Price'].sum()\n",
    "age_pur_person = age_pur_total/age_grp['Total Count']\n",
    "\n",
    "age_pur_analysis = pd.concat([age_pur_count, age_pur_avg_pd, age_pur_total, age_pur_person ], axis=1)\n",
    "age_pur_analysis.columns = ['Purchase Count', 'Avg Purchase Price','Total Purchase Value','Avg Total Purchase per Person']\n",
    "format_dict = {'Avg Purchase Price':'${0:,.2f}', 'Total Purchase Value':'${0:,.2f}','Avg Total Purchase per Person':'${0:,.2f}'}\n",
    "age_pur_analysis.style.format(format_dict)"
   ]
  },
  {
   "cell_type": "markdown",
   "metadata": {},
   "source": [
    "## Top Spenders"
   ]
  },
  {
   "cell_type": "markdown",
   "metadata": {},
   "source": [
    "* Run basic calculations to obtain the results in the table below\n",
    "\n",
    "\n",
    "* Create a summary data frame to hold the results\n",
    "\n",
    "\n",
    "* Sort the total purchase value column in descending order\n",
    "\n",
    "\n",
    "* Optional: give the displayed data cleaner formatting\n",
    "\n",
    "\n",
    "* Display a preview of the summary data frame\n",
    "\n"
   ]
  },
  {
   "cell_type": "code",
   "execution_count": 545,
   "metadata": {},
   "outputs": [
    {
     "data": {
      "text/html": [
       "<style  type=\"text/css\" >\n",
       "</style><table id=\"T_344673a8_9a6c_11eb_b7cc_5cea1d39ab4c\" ><thead>    <tr>        <th class=\"blank level0\" ></th>        <th class=\"col_heading level0 col0\" >Purchase Count</th>        <th class=\"col_heading level0 col1\" >Avg Purchase Price</th>        <th class=\"col_heading level0 col2\" >Total Purchase Value</th>    </tr>    <tr>        <th class=\"index_name level0\" >SN</th>        <th class=\"blank\" ></th>        <th class=\"blank\" ></th>        <th class=\"blank\" ></th>    </tr></thead><tbody>\n",
       "                <tr>\n",
       "                        <th id=\"T_344673a8_9a6c_11eb_b7cc_5cea1d39ab4clevel0_row0\" class=\"row_heading level0 row0\" >Lisosia93</th>\n",
       "                        <td id=\"T_344673a8_9a6c_11eb_b7cc_5cea1d39ab4crow0_col0\" class=\"data row0 col0\" >5</td>\n",
       "                        <td id=\"T_344673a8_9a6c_11eb_b7cc_5cea1d39ab4crow0_col1\" class=\"data row0 col1\" >$3.79</td>\n",
       "                        <td id=\"T_344673a8_9a6c_11eb_b7cc_5cea1d39ab4crow0_col2\" class=\"data row0 col2\" >$18.96</td>\n",
       "            </tr>\n",
       "            <tr>\n",
       "                        <th id=\"T_344673a8_9a6c_11eb_b7cc_5cea1d39ab4clevel0_row1\" class=\"row_heading level0 row1\" >Idastidru52</th>\n",
       "                        <td id=\"T_344673a8_9a6c_11eb_b7cc_5cea1d39ab4crow1_col0\" class=\"data row1 col0\" >4</td>\n",
       "                        <td id=\"T_344673a8_9a6c_11eb_b7cc_5cea1d39ab4crow1_col1\" class=\"data row1 col1\" >$3.86</td>\n",
       "                        <td id=\"T_344673a8_9a6c_11eb_b7cc_5cea1d39ab4crow1_col2\" class=\"data row1 col2\" >$15.45</td>\n",
       "            </tr>\n",
       "            <tr>\n",
       "                        <th id=\"T_344673a8_9a6c_11eb_b7cc_5cea1d39ab4clevel0_row2\" class=\"row_heading level0 row2\" >Chamjask73</th>\n",
       "                        <td id=\"T_344673a8_9a6c_11eb_b7cc_5cea1d39ab4crow2_col0\" class=\"data row2 col0\" >3</td>\n",
       "                        <td id=\"T_344673a8_9a6c_11eb_b7cc_5cea1d39ab4crow2_col1\" class=\"data row2 col1\" >$4.61</td>\n",
       "                        <td id=\"T_344673a8_9a6c_11eb_b7cc_5cea1d39ab4crow2_col2\" class=\"data row2 col2\" >$13.83</td>\n",
       "            </tr>\n",
       "            <tr>\n",
       "                        <th id=\"T_344673a8_9a6c_11eb_b7cc_5cea1d39ab4clevel0_row3\" class=\"row_heading level0 row3\" >Iral74</th>\n",
       "                        <td id=\"T_344673a8_9a6c_11eb_b7cc_5cea1d39ab4crow3_col0\" class=\"data row3 col0\" >4</td>\n",
       "                        <td id=\"T_344673a8_9a6c_11eb_b7cc_5cea1d39ab4crow3_col1\" class=\"data row3 col1\" >$3.40</td>\n",
       "                        <td id=\"T_344673a8_9a6c_11eb_b7cc_5cea1d39ab4crow3_col2\" class=\"data row3 col2\" >$13.62</td>\n",
       "            </tr>\n",
       "            <tr>\n",
       "                        <th id=\"T_344673a8_9a6c_11eb_b7cc_5cea1d39ab4clevel0_row4\" class=\"row_heading level0 row4\" >Iskadarya95</th>\n",
       "                        <td id=\"T_344673a8_9a6c_11eb_b7cc_5cea1d39ab4crow4_col0\" class=\"data row4 col0\" >3</td>\n",
       "                        <td id=\"T_344673a8_9a6c_11eb_b7cc_5cea1d39ab4crow4_col1\" class=\"data row4 col1\" >$4.37</td>\n",
       "                        <td id=\"T_344673a8_9a6c_11eb_b7cc_5cea1d39ab4crow4_col2\" class=\"data row4 col2\" >$13.10</td>\n",
       "            </tr>\n",
       "    </tbody></table>"
      ],
      "text/plain": [
       "<pandas.io.formats.style.Styler at 0x267153df880>"
      ]
     },
     "execution_count": 545,
     "metadata": {},
     "output_type": "execute_result"
    }
   ],
   "source": [
    "spender_df = purchase_data.iloc[:,[1,6]]\n",
    "spender_gp_df = spender_df.groupby('SN')\n",
    "\n",
    "purchase_count = spender_gp_df['SN'].count()\n",
    "spender_avg_price = spender_gp_df['Price'].mean()\n",
    "spender_price_total= spender_gp_df['Price'].sum()\n",
    "\n",
    "spender_df = pd.concat([purchase_count, spender_avg_price, spender_price_total], axis=1)\n",
    "spender_df.columns = ['Purchase Count', 'Avg Purchase Price','Total Purchase Value']\n",
    "spender_df = spender_df.sort_values(\"Total Purchase Value\",ascending = False)\n",
    "top_spend_df = spender_df.iloc[0:5,:]\n",
    "format_dict = {'Avg Purchase Price':'${0:,.2f}', 'Total Purchase Value':'${0:,.2f}'}\n",
    "top_spend_df.style.format(format_dict)"
   ]
  },
  {
   "cell_type": "markdown",
   "metadata": {},
   "source": [
    "## Most Popular Items"
   ]
  },
  {
   "cell_type": "markdown",
   "metadata": {},
   "source": [
    "* Retrieve the Item ID, Item Name, and Item Price columns\n",
    "\n",
    "\n",
    "* Group by Item ID and Item Name. Perform calculations to obtain purchase count, item price, and total purchase value\n",
    "\n",
    "\n",
    "* Create a summary data frame to hold the results\n",
    "\n",
    "\n",
    "* Sort the purchase count column in descending order\n",
    "\n",
    "\n",
    "* Optional: give the displayed data cleaner formatting\n",
    "\n",
    "\n",
    "* Display a preview of the summary data frame\n",
    "\n"
   ]
  },
  {
   "cell_type": "code",
   "execution_count": 593,
   "metadata": {},
   "outputs": [
    {
     "data": {
      "text/html": [
       "<style  type=\"text/css\" >\n",
       "</style><table id=\"T_a37288bb_9a71_11eb_af2d_5cea1d39ab4c\" ><thead>    <tr>        <th class=\"blank\" ></th>        <th class=\"blank level0\" ></th>        <th class=\"col_heading level0 col0\" >Purchase Count</th>        <th class=\"col_heading level0 col1\" >Item Price</th>        <th class=\"col_heading level0 col2\" >Total Purchase Value</th>    </tr>    <tr>        <th class=\"index_name level0\" >Item ID</th>        <th class=\"index_name level1\" >Item Name</th>        <th class=\"blank\" ></th>        <th class=\"blank\" ></th>        <th class=\"blank\" ></th>    </tr></thead><tbody>\n",
       "                <tr>\n",
       "                        <th id=\"T_a37288bb_9a71_11eb_af2d_5cea1d39ab4clevel0_row0\" class=\"row_heading level0 row0\" >178</th>\n",
       "                        <th id=\"T_a37288bb_9a71_11eb_af2d_5cea1d39ab4clevel1_row0\" class=\"row_heading level1 row0\" >Oathbreaker, Last Hope of the Breaking Storm</th>\n",
       "                        <td id=\"T_a37288bb_9a71_11eb_af2d_5cea1d39ab4crow0_col0\" class=\"data row0 col0\" >12</td>\n",
       "                        <td id=\"T_a37288bb_9a71_11eb_af2d_5cea1d39ab4crow0_col1\" class=\"data row0 col1\" >$4.23</td>\n",
       "                        <td id=\"T_a37288bb_9a71_11eb_af2d_5cea1d39ab4crow0_col2\" class=\"data row0 col2\" >$50.76</td>\n",
       "            </tr>\n",
       "            <tr>\n",
       "                        <th id=\"T_a37288bb_9a71_11eb_af2d_5cea1d39ab4clevel0_row1\" class=\"row_heading level0 row1\" >145</th>\n",
       "                        <th id=\"T_a37288bb_9a71_11eb_af2d_5cea1d39ab4clevel1_row1\" class=\"row_heading level1 row1\" >Fiery Glass Crusader</th>\n",
       "                        <td id=\"T_a37288bb_9a71_11eb_af2d_5cea1d39ab4crow1_col0\" class=\"data row1 col0\" >9</td>\n",
       "                        <td id=\"T_a37288bb_9a71_11eb_af2d_5cea1d39ab4crow1_col1\" class=\"data row1 col1\" >$4.58</td>\n",
       "                        <td id=\"T_a37288bb_9a71_11eb_af2d_5cea1d39ab4crow1_col2\" class=\"data row1 col2\" >$41.22</td>\n",
       "            </tr>\n",
       "            <tr>\n",
       "                        <th id=\"T_a37288bb_9a71_11eb_af2d_5cea1d39ab4clevel0_row2\" class=\"row_heading level0 row2\" >108</th>\n",
       "                        <th id=\"T_a37288bb_9a71_11eb_af2d_5cea1d39ab4clevel1_row2\" class=\"row_heading level1 row2\" >Extraction, Quickblade Of Trembling Hands</th>\n",
       "                        <td id=\"T_a37288bb_9a71_11eb_af2d_5cea1d39ab4crow2_col0\" class=\"data row2 col0\" >9</td>\n",
       "                        <td id=\"T_a37288bb_9a71_11eb_af2d_5cea1d39ab4crow2_col1\" class=\"data row2 col1\" >$3.53</td>\n",
       "                        <td id=\"T_a37288bb_9a71_11eb_af2d_5cea1d39ab4crow2_col2\" class=\"data row2 col2\" >$31.77</td>\n",
       "            </tr>\n",
       "            <tr>\n",
       "                        <th id=\"T_a37288bb_9a71_11eb_af2d_5cea1d39ab4clevel0_row3\" class=\"row_heading level0 row3\" >82</th>\n",
       "                        <th id=\"T_a37288bb_9a71_11eb_af2d_5cea1d39ab4clevel1_row3\" class=\"row_heading level1 row3\" >Nirvana</th>\n",
       "                        <td id=\"T_a37288bb_9a71_11eb_af2d_5cea1d39ab4crow3_col0\" class=\"data row3 col0\" >9</td>\n",
       "                        <td id=\"T_a37288bb_9a71_11eb_af2d_5cea1d39ab4crow3_col1\" class=\"data row3 col1\" >$4.90</td>\n",
       "                        <td id=\"T_a37288bb_9a71_11eb_af2d_5cea1d39ab4crow3_col2\" class=\"data row3 col2\" >$44.10</td>\n",
       "            </tr>\n",
       "            <tr>\n",
       "                        <th id=\"T_a37288bb_9a71_11eb_af2d_5cea1d39ab4clevel0_row4\" class=\"row_heading level0 row4\" >19</th>\n",
       "                        <th id=\"T_a37288bb_9a71_11eb_af2d_5cea1d39ab4clevel1_row4\" class=\"row_heading level1 row4\" >Pursuit, Cudgel of Necromancy</th>\n",
       "                        <td id=\"T_a37288bb_9a71_11eb_af2d_5cea1d39ab4crow4_col0\" class=\"data row4 col0\" >8</td>\n",
       "                        <td id=\"T_a37288bb_9a71_11eb_af2d_5cea1d39ab4crow4_col1\" class=\"data row4 col1\" >$1.02</td>\n",
       "                        <td id=\"T_a37288bb_9a71_11eb_af2d_5cea1d39ab4crow4_col2\" class=\"data row4 col2\" >$8.16</td>\n",
       "            </tr>\n",
       "    </tbody></table>"
      ],
      "text/plain": [
       "<pandas.io.formats.style.Styler at 0x267153d2dc0>"
      ]
     },
     "execution_count": 593,
     "metadata": {},
     "output_type": "execute_result"
    }
   ],
   "source": [
    "items_df = purchase_data.iloc[:,[4,5,6]]\n",
    "group_items =items_df.groupby(['Item ID','Item Name'])\n",
    "\n",
    "item_pur_ct = group_items['Item ID'].count()\n",
    "item_pur_tot = group_items['Price'].median()\n",
    "item_pur_value = item_pur_ct * item_pur_tot\n",
    "\n",
    "purchases_tot = pd.concat([item_pur_ct, item_pur_tot, item_pur_value], axis=1)\n",
    "purchases_tot.columns = ['Purchase Count', 'Item Price','Total Purchase Value']\n",
    "\n",
    "purchases_tot = purchases_tot.sort_values(\"Purchase Count\",ascending = False)\n",
    "top_purchases = purchases_tot.iloc[0:5,:]\n",
    "format_dict = {'Item Price':'${0:,.2f}', 'Total Purchase Value':'${0:,.2f}'}\n",
    "top_purchases.style.format(format_dict)\n",
    "\n"
   ]
  },
  {
   "cell_type": "markdown",
   "metadata": {},
   "source": [
    "## Most Profitable Items"
   ]
  },
  {
   "cell_type": "markdown",
   "metadata": {},
   "source": [
    "* Sort the above table by total purchase value in descending order\n",
    "\n",
    "\n",
    "* Optional: give the displayed data cleaner formatting\n",
    "\n",
    "\n",
    "* Display a preview of the data frame\n",
    "\n"
   ]
  },
  {
   "cell_type": "code",
   "execution_count": 594,
   "metadata": {
    "scrolled": true
   },
   "outputs": [
    {
     "data": {
      "text/html": [
       "<style  type=\"text/css\" >\n",
       "</style><table id=\"T_c807cc55_9a71_11eb_aaf9_5cea1d39ab4c\" ><thead>    <tr>        <th class=\"blank\" ></th>        <th class=\"blank level0\" ></th>        <th class=\"col_heading level0 col0\" >Purchase Count</th>        <th class=\"col_heading level0 col1\" >Item Price</th>        <th class=\"col_heading level0 col2\" >Total Purchase Value</th>    </tr>    <tr>        <th class=\"index_name level0\" >Item ID</th>        <th class=\"index_name level1\" >Item Name</th>        <th class=\"blank\" ></th>        <th class=\"blank\" ></th>        <th class=\"blank\" ></th>    </tr></thead><tbody>\n",
       "                <tr>\n",
       "                        <th id=\"T_c807cc55_9a71_11eb_aaf9_5cea1d39ab4clevel0_row0\" class=\"row_heading level0 row0\" >178</th>\n",
       "                        <th id=\"T_c807cc55_9a71_11eb_aaf9_5cea1d39ab4clevel1_row0\" class=\"row_heading level1 row0\" >Oathbreaker, Last Hope of the Breaking Storm</th>\n",
       "                        <td id=\"T_c807cc55_9a71_11eb_aaf9_5cea1d39ab4crow0_col0\" class=\"data row0 col0\" >12</td>\n",
       "                        <td id=\"T_c807cc55_9a71_11eb_aaf9_5cea1d39ab4crow0_col1\" class=\"data row0 col1\" >$4.23</td>\n",
       "                        <td id=\"T_c807cc55_9a71_11eb_aaf9_5cea1d39ab4crow0_col2\" class=\"data row0 col2\" >$50.76</td>\n",
       "            </tr>\n",
       "            <tr>\n",
       "                        <th id=\"T_c807cc55_9a71_11eb_aaf9_5cea1d39ab4clevel0_row1\" class=\"row_heading level0 row1\" >82</th>\n",
       "                        <th id=\"T_c807cc55_9a71_11eb_aaf9_5cea1d39ab4clevel1_row1\" class=\"row_heading level1 row1\" >Nirvana</th>\n",
       "                        <td id=\"T_c807cc55_9a71_11eb_aaf9_5cea1d39ab4crow1_col0\" class=\"data row1 col0\" >9</td>\n",
       "                        <td id=\"T_c807cc55_9a71_11eb_aaf9_5cea1d39ab4crow1_col1\" class=\"data row1 col1\" >$4.90</td>\n",
       "                        <td id=\"T_c807cc55_9a71_11eb_aaf9_5cea1d39ab4crow1_col2\" class=\"data row1 col2\" >$44.10</td>\n",
       "            </tr>\n",
       "            <tr>\n",
       "                        <th id=\"T_c807cc55_9a71_11eb_aaf9_5cea1d39ab4clevel0_row2\" class=\"row_heading level0 row2\" >145</th>\n",
       "                        <th id=\"T_c807cc55_9a71_11eb_aaf9_5cea1d39ab4clevel1_row2\" class=\"row_heading level1 row2\" >Fiery Glass Crusader</th>\n",
       "                        <td id=\"T_c807cc55_9a71_11eb_aaf9_5cea1d39ab4crow2_col0\" class=\"data row2 col0\" >9</td>\n",
       "                        <td id=\"T_c807cc55_9a71_11eb_aaf9_5cea1d39ab4crow2_col1\" class=\"data row2 col1\" >$4.58</td>\n",
       "                        <td id=\"T_c807cc55_9a71_11eb_aaf9_5cea1d39ab4crow2_col2\" class=\"data row2 col2\" >$41.22</td>\n",
       "            </tr>\n",
       "            <tr>\n",
       "                        <th id=\"T_c807cc55_9a71_11eb_aaf9_5cea1d39ab4clevel0_row3\" class=\"row_heading level0 row3\" >92</th>\n",
       "                        <th id=\"T_c807cc55_9a71_11eb_aaf9_5cea1d39ab4clevel1_row3\" class=\"row_heading level1 row3\" >Final Critic</th>\n",
       "                        <td id=\"T_c807cc55_9a71_11eb_aaf9_5cea1d39ab4crow3_col0\" class=\"data row3 col0\" >8</td>\n",
       "                        <td id=\"T_c807cc55_9a71_11eb_aaf9_5cea1d39ab4crow3_col1\" class=\"data row3 col1\" >$4.88</td>\n",
       "                        <td id=\"T_c807cc55_9a71_11eb_aaf9_5cea1d39ab4crow3_col2\" class=\"data row3 col2\" >$39.04</td>\n",
       "            </tr>\n",
       "            <tr>\n",
       "                        <th id=\"T_c807cc55_9a71_11eb_aaf9_5cea1d39ab4clevel0_row4\" class=\"row_heading level0 row4\" >103</th>\n",
       "                        <th id=\"T_c807cc55_9a71_11eb_aaf9_5cea1d39ab4clevel1_row4\" class=\"row_heading level1 row4\" >Singed Scalpel</th>\n",
       "                        <td id=\"T_c807cc55_9a71_11eb_aaf9_5cea1d39ab4crow4_col0\" class=\"data row4 col0\" >8</td>\n",
       "                        <td id=\"T_c807cc55_9a71_11eb_aaf9_5cea1d39ab4crow4_col1\" class=\"data row4 col1\" >$4.35</td>\n",
       "                        <td id=\"T_c807cc55_9a71_11eb_aaf9_5cea1d39ab4crow4_col2\" class=\"data row4 col2\" >$34.80</td>\n",
       "            </tr>\n",
       "    </tbody></table>"
      ],
      "text/plain": [
       "<pandas.io.formats.style.Styler at 0x267142c83d0>"
      ]
     },
     "execution_count": 594,
     "metadata": {},
     "output_type": "execute_result"
    }
   ],
   "source": [
    "purchases_tot = purchases_tot.sort_values(\"Total Purchase Value\",ascending = False)\n",
    "top_purchases = purchases_tot.iloc[0:5,:]\n",
    "format_dict = {'Item Price':'${0:,.2f}', 'Total Purchase Value':'${0:,.2f}'}\n",
    "top_purchases.style.format(format_dict)"
   ]
  }
 ],
 "metadata": {
  "anaconda-cloud": {},
  "kernel_info": {
   "name": "python3"
  },
  "kernelspec": {
   "display_name": "Python 3",
   "language": "python",
   "name": "python3"
  },
  "language_info": {
   "codemirror_mode": {
    "name": "ipython",
    "version": 3
   },
   "file_extension": ".py",
   "mimetype": "text/x-python",
   "name": "python",
   "nbconvert_exporter": "python",
   "pygments_lexer": "ipython3",
   "version": "3.8.5"
  },
  "nteract": {
   "version": "0.2.0"
  }
 },
 "nbformat": 4,
 "nbformat_minor": 4
}
