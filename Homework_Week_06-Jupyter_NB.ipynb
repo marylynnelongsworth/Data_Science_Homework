{
 "cells": [
  {
   "cell_type": "markdown",
   "metadata": {},
   "source": [
    "1.\tShow all customers whose last names start with T. Order them by first name from A-Z.\n",
    "\n"
   ]
  },
  {
   "cell_type": "code",
   "execution_count": null,
   "metadata": {},
   "outputs": [],
   "source": [
    "SELECT first_name,\n",
    "\t\tlast_name\n",
    "FROM customer\n",
    "WHERE last_name LIKE 'T%'\n",
    "ORDER BY first_name;"
   ]
  },
  {
   "cell_type": "markdown",
   "metadata": {},
   "source": [
    "2.\tShow all rentals returned from 5/28/2005 to 6/1/2005"
   ]
  },
  {
   "cell_type": "code",
   "execution_count": null,
   "metadata": {},
   "outputs": [],
   "source": [
    "SELECT rental.return_date,\n",
    "\t\tfilm.title\n",
    "FROM rental\n",
    "\tJOIN inventory \n",
    "\t\tON inventory.inventory_ID= rental.inventory_id\n",
    "\tJOIN film \n",
    "\t\tON film.film_id = inventory.film_id\n",
    "WHERE rental.return_date\n",
    "\tBETWEEN'5/28/2005' AND '6/1/2005'\n",
    "ORDER BY return_date;"
   ]
  },
  {
   "cell_type": "markdown",
   "metadata": {},
   "source": [
    "3.\tHow would you determine which movies are rented the most?\n",
    "\n"
   ]
  },
  {
   "cell_type": "code",
   "execution_count": null,
   "metadata": {},
   "outputs": [],
   "source": [
    "SELECT film.title,\n",
    "\t\tCOUNT(rental.inventory_id) \n",
    "\t\t\tAS times_rented\n",
    "FROM rental\n",
    "\tJOIN inventory \n",
    "\t\tON inventory.inventory_ID = rental.inventory_id\n",
    "\tJOIN film \n",
    "\t\tON film.film_id = inventory.film_id\n",
    "GROUP BY film.title\n",
    "ORDER BY times_rented DESC;"
   ]
  },
  {
   "cell_type": "markdown",
   "metadata": {},
   "source": [
    "4.\tShow how much each customer spent on movies (for all time) . Order them from least to most."
   ]
  },
  {
   "cell_type": "code",
   "execution_count": null,
   "metadata": {},
   "outputs": [],
   "source": [
    "SELECT rental.customer_id,\n",
    "\t   SUM(CAST(payment.amount AS money)) AS total_spent\n",
    "FROM payment\n",
    "\tJOIN rental\n",
    "\t\tON payment.customer_id = rental.customer_id\n",
    "GROUP BY rental.customer_id\n",
    "ORDER BY total_spent DESC;"
   ]
  },
  {
   "cell_type": "markdown",
   "metadata": {},
   "source": [
    "5.\tWhich actor was in the most movies in 2006 (based on this dataset)? Be sure to alias the actor name and count as a more descriptive name. Order the results from most to least."
   ]
  },
  {
   "cell_type": "code",
   "execution_count": null,
   "metadata": {},
   "outputs": [],
   "source": [
    "SELECT CONCAT(a.first_name,' ',a.last_name) AS actor,\n",
    "\t\tCOUNT(fm.film_id) AS movie_count_2006\n",
    "FROM actor AS a\n",
    "\tJOIN film_actor AS fa\n",
    "\t\tON a.actor_id = fa.actor_id\n",
    "\tJOIN film AS fm\n",
    "\t\tON fa.film_id = fm.film_id\n",
    "WHERE fm.release_year = 2006\n",
    "GROUP BY actor\n",
    "ORDER BY movie_count_2006 DESC;"
   ]
  },
  {
   "cell_type": "markdown",
   "metadata": {},
   "source": [
    "6.\tWrite an explain plan for 4 and 5. Show the queries and explain what is happening in each one. Use the following link to understand how this works http://postgresguide.com/performance/explain.html "
   ]
  },
  {
   "cell_type": "code",
   "execution_count": null,
   "metadata": {},
   "outputs": [],
   "source": [
    "Explain Plan for # 4\n",
    "\n",
    "--\"1. ->  Sort  (cost=6655.97..6657.46 rows=599 width=10)\"\n",
    "--\t\t\tSORT using SORT KEY\n",
    "--\t\t\tCost (6655.97) = the amount of time between when the component starts reading the data \n",
    "--              and when the component outputs its first row.\n",
    "--        \tMax Time (6657.46) = represents the total amount of time it took to run the component\n",
    "--        \tRows (599) = number of rows gone through\n",
    "--\t\t  \tWidth (10)= number of columns gone through\n",
    "--\"2  ->  Sort Key: (sum((payment.amount)::money)) DESC\"\n",
    "--\t\t\tCreate SORT KEY from the MONEY column, created from the SUM of the AMOUNT in the PAYMENT TABLE\n",
    "--\"3  ->  Finalize GroupAggregate  (cost=6550.46..6628.33 rows=599 width=10)\"\n",
    "--\t\t\tGROUP/AGGREGATE component\t\t\t\t\n",
    "--\"4  ->  Group Key: rental.customer_id\"\n",
    "--\t\t\tCreate GROUP KEY from the CUSTOMER_ID column on the RENTAL TABLE\n",
    "--\"5  ->  Gather Merge  (cost=6550.46..6619.35 rows=599 width=10)\"\n",
    "--\t\t\tMERGE on the sort\n",
    "--\"6  ->  Workers Planned: 1\"\n",
    "--\"7  ->  Sort  (cost=5550.45..5551.95 rows=599 width=10)\"\n",
    "--\t\t\tCarry out the Stort\n",
    "--\"8  ->  Sort Key: rental.customer_id\"\n",
    "--\t\t\tCreate SORT KEY from CUSTOMER_ID on the RENTAL TABLE\n",
    "--\"9  ->  Partial HashAggregate  (cost=5516.83..5522.82 rows=599 width=10)\"\n",
    "--\t\t\tHash the Aggrigate from the GROUP KEY\n",
    "--\"10 ->  Group Key: rental.customer_id\"\n",
    "-- \t\t\tCreate GROUP KEY from CUSTOMER_ID on the RENTAL TABLE\n",
    "--\"11 ->  Hash Join  (cost=436.70..3761.84 rows=233998 width=8)\"\n",
    "--\t\t\tJoin on the HASHES\n",
    "--\"12 ->  Hash Cond: (rental.customer_id = payment.customer_id)\"\n",
    "--\t\t\tHASH - map CUSTOMER_ID on the RENTAL TABLE and PAYMENT TABLE\n",
    "--\"13 ->  Parallel Index Only Scan using idx_unq_rental_rental_date_inventory_id_customer_id on rental  (cost=0.29..430.88 rows=9438 width=2)\"\n",
    "--\t\t\tIndex RENTAL TABLE \n",
    "--\"14 ->  Hash  (cost=253.96..253.96 rows=14596 width=8)\"\n",
    "-- \t\t\tStartup HASH function maps any database value to a 32-bit integer\n",
    "--\"15 ->  Seq Scan on payment  (cost=0.00..253.96 rows=14596 width=8)\"\n",
    "-- \t\t\tStart by Sequentially scanning PAYMENT TABLE\n",
    "--\t\t\tCost (0.00) - amount of time between component startup and looking at first row\n",
    "--          Max Time (253.96) - total time of component execution\n",
    "--          Rows (14596) - scanned 14,596 rows\n",
    "--          Width (8) - columns scanned"
   ]
  },
  {
   "cell_type": "code",
   "execution_count": null,
   "metadata": {},
   "outputs": [],
   "source": [
    "Explain plan for # 5\n",
    "\n",
    "--   This query ran faster than the one before it.\n",
    "--\"1 ->  Sort  (cost=246.20..246.52 rows=128 width=40)\"\n",
    "--\t\t\tSORT using SORT KEY\n",
    "--\t\t\tCost (246.20) = the amount of time between when the component starts reading the data \n",
    "--              and when the component outputs its first row.\n",
    "--        \tMax Time (246.52) = represents the total amount of time it took to run the component\n",
    "--        \tRows (128) = number of rows gone through\n",
    "--\t\t  \tWidth (40)= number of columns gone through\n",
    "--\"2  ->  Sort Key: (count(fm.film_id)) DESC\"\n",
    "--\t\t\tSort key created from the count of FILM_ID from the FILM Table\n",
    "--\"3  ->  HashAggregate  (cost=240.12..241.72 rows=128 width=40)\"\n",
    "--\t\t\tHash/Aggregate using the GROUP KEY\n",
    "--\"4  ->  Group Key: concat(a.first_name, ' ', a.last_name)\"\n",
    "--\t\t\tGROUP KEY created from the concatenation of the FIRST_NAME and LAST NAME from the ACTORS Table\n",
    "--\"5  ->  Hash Join  (cost=85.50..212.81 rows=5462 width=36)\"\n",
    "--\t\t\tJoin on Hash Condition - film_id\n",
    "--\"6  ->  Hash Cond: (fa.film_id = fm.film_id)\"\n",
    "--\t\t\tCreate Hash Condition Indexing where the FILM_ID matches on the FILM ACTOR TABLE, and FILM TABLE\n",
    "--\"7  ->  Hash Join  (cost=6.50..105.76 rows=5462 width=15)\"\n",
    "--\t\t\tJoin on Hash Condition actor_id\n",
    "--\"8  ->  Hash Cond: (fa.actor_id = a.actor_id)\"\n",
    "--\t\t\tCreate Hash Condition Indexing where ACTOR_ID matches on FILM ACTOR TABLE and ACTOR TABLE\n",
    "--\"9  ->  Seq Scan on film_actor fa  (cost=0.00..84.62 rows=5462 width=4)\"\n",
    "--\t\t\tSequencially scan the FILM ACTOR Table\n",
    "--\"10 ->  Hash  (cost=4.00..4.00 rows=200 width=17)\"\n",
    "--\t\t\tIndex ACTOR TABLE\n",
    "--\"11 ->  Seq Scan on actor a  (cost=0.00..4.00 rows=200 width=17)\"\n",
    "--\t\t\tSequecially scan ACTOR TABLE\n",
    "--\"12 ->  Hash  (cost=66.50..66.50 rows=1000 width=4)\"\n",
    "--\t\t\tIndex FILM TABLE\n",
    "--\"13 ->  Seq Scan on film fm  (cost=0.00..66.50 rows=1000 width=4)\"\n",
    "--\t\t\tSequecially scan FILM TABLE\n",
    "--\"14 ->  Filter: ((release_year)::integer = 2006)\"\n",
    "--\t\t\tCreate a filter for release_year of 2006\n"
   ]
  },
  {
   "cell_type": "markdown",
   "metadata": {},
   "source": [
    "7.\tWhat is the average rental rate per genre?"
   ]
  },
  {
   "cell_type": "code",
   "execution_count": null,
   "metadata": {},
   "outputs": [],
   "source": [
    "SELECT c.name,\n",
    "\t\tCOUNT(r.rental_id) AS rental_count,\n",
    "\t\tROUND(COUNT(*) * 100.0/ SUM(COUNT(*)) OVER(),2)\n",
    "\t\t\t AS rental_percent\n",
    "FROM rental AS r\n",
    "\tJOIN inventory AS i\n",
    "\t\tON r.inventory_id = i.inventory_id\n",
    "\tJOIN film_category AS fc\n",
    "\t\tON i.film_id = fc.film_id\n",
    "\tJOIN category AS c\n",
    "\t\tON fc.category_id = c.category_id\n",
    "GROUP BY c.name\n",
    "ORDER BY rental_percent DESC;"
   ]
  },
  {
   "cell_type": "markdown",
   "metadata": {},
   "source": [
    "8.\tHow many films were returned late? Early? On time?"
   ]
  },
  {
   "cell_type": "code",
   "execution_count": null,
   "metadata": {},
   "outputs": [],
   "source": [
    "SELECT CASE WHEN CAST(r.return_date AS date) \n",
    "\t\t\t\t> (r.rental_date:: date + f.rental_duration) THEN 'Late'\n",
    "\t\t\tWHEN CAST(r.return_date AS date) \n",
    "\t\t\t\t< (r.rental_date:: date + f.rental_duration) THEN 'Early'\n",
    "\t\t\tWHEN CAST(r.return_date AS date) \n",
    "\t\t\t\t= (r.rental_date:: date + f.rental_duration) THEN 'On Time'\n",
    "\t\tELSE 'Not Yet Returned'\n",
    "\t\tEND AS return_status,\n",
    "\t\tCOUNT(rental_id) AS status_count\n",
    "FROM rental AS r\n",
    "\tJOIN inventory AS i\n",
    "\t\tON r.inventory_id = i.inventory_id\n",
    "\tJOIN film AS f\n",
    "\t\tON i.film_id = f.film_id\n",
    "GROUP BY return_status\n",
    "ORDER BY status_count DESC;"
   ]
  },
  {
   "cell_type": "markdown",
   "metadata": {},
   "source": [
    "9.\tWhat categories are the most rented and what are their total sales?"
   ]
  },
  {
   "cell_type": "code",
   "execution_count": null,
   "metadata": {},
   "outputs": [],
   "source": [
    "SELECT c.name,\n",
    "\t\tCOUNT(r.rental_id) AS total_rentals,\n",
    "\t\tSUM(f.rental_rate) AS total_sales\n",
    "FROM rental AS r\n",
    "\tJOIN inventory AS i\n",
    "\t\tON r.inventory_id = i.inventory_id\n",
    "\tJOIN film AS f\n",
    "\t\tON i.film_id = f.film_id\n",
    "\tJOIN film_category AS fc\n",
    "\t\tON f.film_id = fc.film_id\n",
    "\tJOIN category as c\n",
    "\t\tON fc.category_id = c.category_id\n",
    "GROUP BY c.name\n",
    "ORDER BY total_rentals DESC;"
   ]
  },
  {
   "cell_type": "markdown",
   "metadata": {},
   "source": [
    "10.\tCreate a view for 8 and a view for 9. Be sure to name them appropriately. "
   ]
  },
  {
   "cell_type": "code",
   "execution_count": 101,
   "metadata": {},
   "outputs": [
    {
     "name": "stdout",
     "output_type": "stream",
     "text": [
      "      return_status  status_count\n",
      "0              Late          7269\n",
      "1             Early          6864\n",
      "2           On Time          1728\n",
      "3  Not Yet Returned           183\n"
     ]
    }
   ],
   "source": [
    "import numpy as np\n",
    "import matplotlib.pyplot as plt\n",
    "import seaborn as sns\n",
    "import pandas as pd\n",
    "\n",
    "# import data\n",
    "returns = pd.read_csv('DVD_return_rate.csv')\n",
    "\n",
    "# make a data frame\n",
    "returns_df = pd.DataFrame(returns)\n",
    "\n",
    "print(returns_df)"
   ]
  },
  {
   "cell_type": "code",
   "execution_count": 107,
   "metadata": {},
   "outputs": [
    {
     "data": {
      "image/png": "[encoded data removed]",
      "text/plain": [
       "<Figure size 432x288 with 1 Axes>"
      ]
     },
     "metadata": {},
     "output_type": "display_data"
    }
   ],
   "source": [
    "import numpy as np\n",
    "import matplotlib.pyplot as plt\n",
    "import seaborn as sns\n",
    "import pandas as pd\n",
    "\n",
    "# import data\n",
    "returns = pd.read_csv('DVD_return_rate.csv')\n",
    "\n",
    "# make a data frame\n",
    "returns_df = pd.DataFrame(returns)\n",
    "\n",
    "plt.bar(returns_df['return_status'], returns_df['status_count'], color = ('r','b','g','y'), label = 'Return Status')\n",
    "\n",
    "plt.title(\"Rental Return Status\")\n",
    "plt.show()"
   ]
  },
  {
   "cell_type": "code",
   "execution_count": 108,
   "metadata": {},
   "outputs": [
    {
     "name": "stdout",
     "output_type": "stream",
     "text": [
      "           name  total_rentals  total_sales\n",
      "0        Sports           1179      3617.21\n",
      "1     Animation           1166      3218.34\n",
      "2        Action           1112      2966.88\n",
      "3        Sci-Fi           1101      3289.99\n",
      "4        Family           1096      2959.04\n",
      "5         Drama           1060      3373.40\n",
      "6   Documentary           1050      2747.50\n",
      "7       Foreign           1033      3050.67\n",
      "8         Games            969      3033.31\n",
      "9      Children            945      2541.55\n",
      "10       Comedy            941      3089.59\n",
      "11          New            940      2904.60\n",
      "12     Classics            939      2477.61\n",
      "13       Horror            846      2623.54\n",
      "14       Travel            837      2776.63\n",
      "15        Music            830      2541.70\n"
     ]
    }
   ],
   "source": [
    "import pandas as pd\n",
    "import numpy as np\n",
    "import matplotlib.pyplot as plt\n",
    "import seaborn as sns\n",
    "\n",
    "# import data\n",
    "rentals = pd.read_csv('DVD_category_rental_sales.csv')\n",
    "\n",
    "# make a data frame\n",
    "rental_df = pd.DataFrame(rentals)\n",
    "\n",
    "print(rental_df)\n"
   ]
  },
  {
   "cell_type": "code",
   "execution_count": 98,
   "metadata": {},
   "outputs": [
    {
     "data": {
      "image/png": "[encoded data removed]",
      "text/plain": [
       "<Figure size 432x288 with 1 Axes>"
      ]
     },
     "metadata": {},
     "output_type": "display_data"
    }
   ],
   "source": [
    "import numpy as np\n",
    "import matplotlib.pyplot as plt\n",
    "import seaborn as sns\n",
    "import pandas as pd\n",
    "\n",
    "# import data\n",
    "rentals = pd.read_csv('DVD_category_rental_sales.csv')\n",
    "\n",
    "# make a data frame\n",
    "rental_df = pd.DataFrame(rentals)\n",
    "\n",
    "# make horizontal bar within bar\n",
    "plt.barh(rental_df['name'], rental_df['total_sales'], color = 'g', label = 'Sales')\n",
    "plt.barh(rental_df['name'], rental_df['total_rentals'], color = 'b', label = 'Rentals')\n",
    "\n",
    "plt.title('Rental Count & Revenue per Category')\n",
    "plt.legend()\n",
    "plt.show()\n"
   ]
  }
 ],
 "metadata": {
  "kernelspec": {
   "display_name": "Python 3",
   "language": "python",
   "name": "python3"
  },
  "language_info": {
   "codemirror_mode": {
    "name": "ipython",
    "version": 3
   },
   "file_extension": ".py",
   "mimetype": "text/x-python",
   "name": "python",
   "nbconvert_exporter": "python",
   "pygments_lexer": "ipython3",
   "version": "3.8.5"
  }
 },
 "nbformat": 4,
 "nbformat_minor": 4
}
