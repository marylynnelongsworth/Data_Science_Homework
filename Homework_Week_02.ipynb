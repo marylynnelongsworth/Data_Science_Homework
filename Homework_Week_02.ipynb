{
 "cells": [
  {
   "cell_type": "markdown",
   "metadata": {},
   "source": [
    "### Homework Week 02\n",
    "#### Loops, Functions and Classes\n",
    "1. Do this homework **in order**. \n",
    "2. Be sure to have a solid understanding of Functions before working with Classes. "
   ]
  },
  {
   "cell_type": "markdown",
   "metadata": {},
   "source": [
    "1. Iterate through `integers_list` and `print` values that are multiples of 7."
   ]
  },
  {
   "cell_type": "code",
   "execution_count": 2,
   "metadata": {},
   "outputs": [
    {
     "name": "stdout",
     "output_type": "stream",
     "text": [
      "35\n",
      "574\n",
      "861\n",
      "126\n",
      "819\n",
      "966\n",
      "455\n",
      "154\n"
     ]
    }
   ],
   "source": [
    "# ** ITERATION through a LIST \n",
    "# ** MODULE: Random  \n",
    "# ** MODULO: %  (remainder after division)\n",
    "\n",
    "\n",
    "import random \n",
    " # random module imported for use\n",
    "\n",
    "integers_list = [random.randint(0,1000) for i in range(50)] \n",
    " # random integers from random module - integers can range from 1 to 1000\n",
    " # range is used to limit the integers to 50 individual integers to look at\n",
    "\n",
    "for i in integers_list : # <-- i is an isolated single integer from the list of 50 integers\n",
    "    if i % 7 == 0:       # <-- if that single (i) integer is divisible by 7 i.e. no left-overs \n",
    "        print(i)         # <-- print the single (i) integer\n",
    "    "
   ]
  },
  {
   "cell_type": "markdown",
   "metadata": {},
   "source": [
    "2. Create `list` of 5 colors as `strings` which are all lowercase. \n",
    "Iterate through the `list` and capitalize each color. \n",
    "You should modify the `list` in place. "
   ]
  },
  {
   "cell_type": "code",
   "execution_count": 4,
   "metadata": {},
   "outputs": [
    {
     "name": "stdout",
     "output_type": "stream",
     "text": [
      "RED\n",
      "ORANGE\n",
      "YELLOW\n",
      "GREEN\n",
      "BLUE\n",
      "VIOLET\n"
     ]
    }
   ],
   "source": [
    "# ** METHOD: UPPER() - string.upper() returns entire string in upper case letters\n",
    "# ** LIST of STRINGS\n",
    "\n",
    "colors = [\"red\", \"orange\", \"yellow\", \"green\", \"blue\", \"violet\"]\n",
    "\n",
    "for c in colors :    # <-- c is an isolated string from the colors list\n",
    "    print(c.upper()) # <-- isolated string put entirely into upper case"
   ]
  },
  {
   "cell_type": "markdown",
   "metadata": {},
   "source": [
    "3. Loop through the string and eliminate all the asterisks."
   ]
  },
  {
   "cell_type": "code",
   "execution_count": 11,
   "metadata": {},
   "outputs": [
    {
     "name": "stdout",
     "output_type": "stream",
     "text": [
      "My computer has gone crazy and added extra symbols.\n"
     ]
    }
   ],
   "source": [
    "# ** LOOP\n",
    "# ** METHOD: REPLACE() - string.replace method replaces a specified phrase with another specified phrase\n",
    "# ** VALUE is a STRING\n",
    "\n",
    "asterisk = 'My *compu*ter has go*ne craz***y an*d add*ed extra *symbols.*'\n",
    "\n",
    "fix_ast = asterisk.replace('*', '') # <-- replace each asterisk in string with nothing\n",
    "print(fix_ast)"
   ]
  },
  {
   "cell_type": "markdown",
   "metadata": {},
   "source": [
    "4. Write a `while` loop that increments `counter` until it reaches 7."
   ]
  },
  {
   "cell_type": "code",
   "execution_count": 10,
   "metadata": {},
   "outputs": [
    {
     "name": "stdout",
     "output_type": "stream",
     "text": [
      "1\n",
      "2\n",
      "3\n",
      "4\n",
      "5\n",
      "6\n",
      "7\n"
     ]
    }
   ],
   "source": [
    "# ** LOOP by WHILE\n",
    "# ** COUNTER\n",
    "\n",
    "counter = 0\n",
    "# your code here\n",
    "\n",
    "while counter != 7 :      # <-- while counter does not equal seven keep going\n",
    "    counter = counter + 1 # <-- add 1 to counter\n",
    "    print(counter)"
   ]
  },
  {
   "cell_type": "markdown",
   "metadata": {},
   "source": [
    "5. Loop over `double_trouble` and eliminate any 'mosquito'."
   ]
  },
  {
   "cell_type": "code",
   "execution_count": 34,
   "metadata": {},
   "outputs": [
    {
     "name": "stdout",
     "output_type": "stream",
     "text": [
      "['cat', 'dog', 'mouse', 'bat', 'elephant', 'dog', 'whale', 'lion', 32, 'bird']\n"
     ]
    }
   ],
   "source": [
    "# ** LOOP through NESTED LIST\n",
    "# ** IF ELIF\n",
    "# ** NESTED LISTS\n",
    "# ** METHOD: APPEND() method appends an element to the end of the list\n",
    "\n",
    "double_trouble = ['cat', 'dog', ['mouse','mosquito','bat','mosquito'],['elephant','dog','whale','lion',32,'mosquito'],'bird',[],'mosquito']\n",
    "\n",
    "no_mosquito = []                        # <-- creates empty list\n",
    "\n",
    "for x in double_trouble:                # <-- pull single value from list (x)\n",
    "    if type(x)== str:                   # <-- is the value a string        \n",
    "        if x != 'mosquito':             # <-- is the value 'mosquito'\n",
    "            no_mosquito.append(x)       # <-- if the value is NOT 'mosquito', add it to no_mosquito list\n",
    "    elif type(x)== list:                # <-- is the value a LIST\n",
    "        for a in x:                     # <-- pull single value from nested list (a)\n",
    "            if a != 'mosquito':         # <-- is the value 'mosquito'\n",
    "                no_mosquito.append(a)   # <-- if the value is NOT 'mosquito', add it to no_mosquito list\n",
    "print(no_mosquito)\n",
    "\n"
   ]
  },
  {
   "cell_type": "markdown",
   "metadata": {},
   "source": [
    "6. Loop through the dictionary of phone numbers and correct the parentheses. "
   ]
  },
  {
   "cell_type": "code",
   "execution_count": 95,
   "metadata": {},
   "outputs": [
    {
     "name": "stdout",
     "output_type": "stream",
     "text": [
      "1-555-567-8910\n",
      "1-555-567-8910\n",
      "1-555-567-8910\n",
      "1-555-567-8910\n",
      "1-555-567-8910\n",
      "{'Jill': '1-555-567-8910', 'Jen': '1-555-567-8910', 'Jan': '1-555-567-8910', 'Jane': '1-555-567-8910', 'Jerri': '1-555-567-8910'}\n"
     ]
    }
   ],
   "source": [
    "# ** LOOP through DICTIONARY\n",
    "# ** METHOD: REPLACE() - string.replace method replaces a specified phrase with another specified phrase\n",
    "# ** Replace 2 items at once\n",
    "\n",
    "phone_numbers = {'Jill':'1-)555(-567-8910',\n",
    "                'Jen':'1-)555(-567-8910',\n",
    "                'Jan':'1-)555(-567-8910',\n",
    "                'Jane':'1-)555(-567-8910',\n",
    "                'Jerri':'1-)555(-567-8910'}\n",
    "\n",
    "no_paretheses = {}\n",
    "\n",
    "for x in phone_numbers:                                                  # <-- pull single value from dictionary (x)\n",
    "    phone_numbers[x] = phone_numbers[x].replace(')','').replace('(','')  # <-- replace ), and ( with empty spae\n",
    "    print(phone_numbers[x])                                              # <-- print each value one at a time\n",
    "print(phone_numbers)                                                     # <-- print dictionary\n",
    "    \n",
    "\n"
   ]
  },
  {
   "cell_type": "markdown",
   "metadata": {},
   "source": [
    "7. Create a function that takes in two numbers.\n",
    "\n",
    "If the numbers are both even add them and `return` the result.\n",
    "\n",
    "If the numbers are odd, subtract the second number from the first and `return` the result.\n",
    "\n",
    "(Assume you'll always get integers)"
   ]
  },
  {
   "cell_type": "code",
   "execution_count": 2,
   "metadata": {},
   "outputs": [
    {
     "name": "stdout",
     "output_type": "stream",
     "text": [
      "-21\n",
      "20\n"
     ]
    }
   ],
   "source": [
    "# ** FUNCTION Creation\n",
    "# ** IF ELSE\n",
    "\n",
    "\n",
    "\n",
    "def twofunc(x, y):                   # <-- function uses 2 variables\n",
    "    if x % 2 == 0 and y % 2 == 0:    # <-- using modulo, check to see if both variables are even\n",
    "        return(x + y)                # <-- if both functions even, add them\n",
    "    else:\n",
    "        return(x - y)                # <-- if either variable odd, subtract one vairable from the other\n",
    "\n",
    "print(twofunc(12,33))                # <-- print results of plugging 12 and 33 into function\n",
    "print(twofunc(2,18))                 # <-- print results of plugging 2 and 18 into function"
   ]
  },
  {
   "cell_type": "markdown",
   "metadata": {},
   "source": [
    "8. Create a function that takes in a `string` and removes all non-alphanumeric characters."
   ]
  },
  {
   "cell_type": "code",
   "execution_count": 141,
   "metadata": {},
   "outputs": [
    {
     "name": "stdout",
     "output_type": "stream",
     "text": [
      "ow ar\n"
     ]
    }
   ],
   "source": [
    "def remnumb(sentence):\n",
    "    mod_sent = ''.join((item for item in sentence if not item.isdigit()))\n",
    "    print(mod_sent)\n",
    "    \n",
    "remnumb(\"o4w a3r\")"
   ]
  },
  {
   "cell_type": "markdown",
   "metadata": {},
   "source": [
    "9. Create a function to convert Celsius to Farenheight and print the result. \n",
    "\n",
    "Bonus(Optional): Include the degree symbol in the output."
   ]
  },
  {
   "cell_type": "code",
   "execution_count": 152,
   "metadata": {},
   "outputs": [
    {
     "name": "stdout",
     "output_type": "stream",
     "text": [
      "0.0 °\n",
      "40.0 °\n"
     ]
    }
   ],
   "source": [
    "def farenheit(temp):\n",
    "    celcius = (temp - 32) * 5/9 \n",
    "    degree_sign = u\"\\N{DEGREE SIGN}\"\n",
    "    print(str(celcius), degree_sign)\n",
    "\n",
    "farenheit(32)\n",
    "farenheit(104)"
   ]
  },
  {
   "cell_type": "markdown",
   "metadata": {},
   "source": [
    "10. Create a function that prints the fibonacci sequence from 0 to 25. "
   ]
  },
  {
   "cell_type": "code",
   "execution_count": 162,
   "metadata": {},
   "outputs": [
    {
     "name": "stdout",
     "output_type": "stream",
     "text": [
      "0\n",
      "1\n",
      "1\n",
      "2\n",
      "3\n",
      "5\n",
      "8\n",
      "13\n",
      "21\n"
     ]
    }
   ],
   "source": [
    "def fibon(x, y):\n",
    "    while x <= 25:\n",
    "        print(x)\n",
    "        z = x + y\n",
    "        x = y\n",
    "        y = z\n",
    "\n",
    "fibon(x = 0, y = 1)"
   ]
  },
  {
   "cell_type": "markdown",
   "metadata": {},
   "source": [
    "11. Create two functions. One function that accepts args `a` and `b` and returns `a + b`. \n",
    "\n",
    "Create a second function that accepts the first function as the 3rd argument as well as a and b.\n"
   ]
  },
  {
   "cell_type": "code",
   "execution_count": 216,
   "metadata": {
    "scrolled": true
   },
   "outputs": [
    {
     "name": "stdout",
     "output_type": "stream",
     "text": [
      "6\n"
     ]
    }
   ],
   "source": [
    "# you do the first function\n",
    "def first_function(a, b):\n",
    "    return a + b\n",
    "    \n",
    "# second function\n",
    "# Here's some starter code to avoid confusion.\n",
    "# Functions can be passed around like any other object. \n",
    "def second_function(a, b, first_function):\n",
    "    return a + b + first_function\n",
    "    \n",
    "a = 1\n",
    "b = 2\n",
    "result = second_function(a, b, first_function(a,b))\n",
    "print(result)\n"
   ]
  },
  {
   "cell_type": "markdown",
   "metadata": {},
   "source": [
    "12. Create a function that prints prime number from 0 to 100. "
   ]
  },
  {
   "cell_type": "code",
   "execution_count": 16,
   "metadata": {},
   "outputs": [
    {
     "name": "stdout",
     "output_type": "stream",
     "text": [
      "2\n",
      "3\n",
      "5\n",
      "7\n",
      "11\n",
      "13\n",
      "17\n",
      "19\n",
      "23\n",
      "29\n",
      "31\n",
      "37\n",
      "41\n",
      "43\n",
      "47\n",
      "53\n",
      "59\n",
      "61\n",
      "67\n",
      "71\n",
      "73\n",
      "79\n",
      "83\n",
      "89\n",
      "97\n"
     ]
    }
   ],
   "source": [
    "def numprime(a, b):\n",
    "    for z in range(a, b+1):\n",
    "        if z > 1:\n",
    "            for y in range(2, z):\n",
    "                if (z % y == 0):\n",
    "                    break\n",
    "            else:\n",
    "                print(z)\n",
    "\n",
    "numprime(0, 100)"
   ]
  },
  {
   "cell_type": "markdown",
   "metadata": {},
   "source": [
    "13. Now's your chance to show off. Create a function that does something that has not already been done in the homework. Get creative. "
   ]
  },
  {
   "cell_type": "code",
   "execution_count": 20,
   "metadata": {},
   "outputs": [
    {
     "name": "stdout",
     "output_type": "stream",
     "text": [
      "The Mode for this List is:  88 with 4 instances in the List\n"
     ]
    }
   ],
   "source": [
    "# **CALCULATING FOR MODE\n",
    "\n",
    "def mode(l):                # <-- pulls individual (l) variable from numList\n",
    "    l = sorted(l)           # <-- sorts numList\n",
    "    d= {}                   # <-- create empty DICTIONARY (d) to receive key variable and item\n",
    "    for i in l:             # <-- selects individial (i) variable from sorted numList (l)\n",
    "        d.setdefault(i, 0)  # <-- sets default in dictionary of a variable paired with 0 \n",
    "        d[i] += 1           # <-- for each dictionary variable, add 1\n",
    "    mx = max(d,key=d.get)   # <-- returns the value (count) of the specified key\n",
    "    if d[mx] >1:\n",
    "        print('The Mode for this List is: ',mx, 'with', d[mx],'instances in the List') \n",
    "    else:\n",
    "        return l\n",
    "\n",
    " \n",
    "numList = [8,34,25,82,48,24,82,84,48,9,54,41,60,6,42,85,31,87,5,30,56,39,4,41,21,16,94,30,57,47,29,55,5,69,29,9,99,50,22,88,\n",
    "           41,88,69,31,13,53,19,51,22,45,32,8,43,31,62,52,7,67,28,48,90,99,53,96,75,86,89,96,73,100,25,88,8,82,18,57,84,\n",
    "           22,77,1,47,100,61,16,56,63,45,75,28,37,56,26,2,13,88,27,34,67,37,16]\n",
    "mode(numList)"
   ]
  },
  {
   "cell_type": "code",
   "execution_count": 10,
   "metadata": {},
   "outputs": [
    {
     "name": "stdout",
     "output_type": "stream",
     "text": [
      "Sorted Variables of List: [1, 2, 4, 5, 5, 6, 7, 8, 8, 8, 9, 9, 13, 13, 16, 16, 16, 18, 19, 21, 22, 22, 22, 24, 25, 25, 26, 27, 28, 28, 29, 29, 30, 30, 31, 31, 31, 32, 34, 34, 37, 37, 39, 41, 41, 41, 42, 43, 45, 45, 47, 47, 48, 48, 48, 50, 51, 52, 53, 53, 54, 55, 56, 56, 56, 57, 57, 60, 61, 62, 63, 67, 67, 69, 69, 73, 75, 75, 77, 82, 82, 82, 84, 84, 85, 86, 87, 88, 88, 88, 88, 89, 90, 94, 96, 96, 99, 99, 100, 100]\n",
      "Count of Variables in List: 100\n",
      "Sum of Variables in List: 4768\n",
      "Mean of List: 47.68\n",
      "Range of List: (1, 100)\n",
      "Median of List is: 46.0\n"
     ]
    }
   ],
   "source": [
    "numList = [8,34,25,82,48,24,82,84,48,9,54,41,60,6,42,85,31,87,5,30,56,39,4,41,21,16,94,30,57,47,29,55,5,69,29,9,99,50,22,88,\n",
    "           41,88,69,31,13,53,19,51,22,45,32,8,43,31,62,52,7,67,28,48,90,99,53,96,75,86,89,96,73,100,25,88,8,82,18,57,84,\n",
    "           22,77,1,47,100,61,16,56,63,45,75,28,37,56,26,2,13,88,27,34,67,37,16]\n",
    "\n",
    "numList.sort()\n",
    "print('Sorted Variables of List:', numList)\n",
    "    \n",
    "numCount = len(numList)\n",
    "print('Count of Variables in List:',numCount)\n",
    "\n",
    "numSum = sum(numList)\n",
    "print('Sum of Variables in List:',numSum)\n",
    "\n",
    "numMean = numSum/numCount\n",
    "print('Mean of List:',numMean)\n",
    "\n",
    "numMax = max(numList)\n",
    "numMin = min(numList)\n",
    "numRange = (numMin, numMax)\n",
    "print('Range of List:',numRange)\n",
    "\n",
    "if numCount % 2 == 0:\n",
    "    median1 = numList[numCount//2]\n",
    "    median2 = numList[numCount//2 - 1]\n",
    "    median = (median1 + median2)/2\n",
    "else:\n",
    "    median = numList[n//2]\n",
    "print('Median of List is:', median)\n",
    "\n",
    "#############\n",
    "\n",
    "\n",
    "\n",
    "\n",
    "\n"
   ]
  },
  {
   "cell_type": "markdown",
   "metadata": {},
   "source": [
    "14. Add an attribute called `age` to the `__init__` method of the `Person` class.\n",
    "\n",
    "Create an instance of `Person()` and print the `age`."
   ]
  },
  {
   "cell_type": "code",
   "execution_count": 47,
   "metadata": {},
   "outputs": [
    {
     "name": "stdout",
     "output_type": "stream",
     "text": [
      "Age 42\n"
     ]
    }
   ],
   "source": [
    "# ** CLASS CREATION\n",
    "\n",
    "class Person():\n",
    "    \n",
    "    def __init__(self, name, occupation, country, age):\n",
    "       # Instance Variables\n",
    "        self.name = name\n",
    "        self.occupation = occupation\n",
    "        self.country = country\n",
    "        self.age = age\n",
    "       \n",
    "# Create an Object\n",
    "my_person = Person('Gregorie Allenford','Librarian','Norway','42')\n",
    "print(\"Age\", my_person.age)"
   ]
  },
  {
   "cell_type": "markdown",
   "metadata": {},
   "source": [
    "15. Creat an instance of the class `Candy`. \n",
    "\n",
    "Add an attribute called `cost` on your instance. (Don't modify the class starter code.)\n",
    "\n",
    "Print the instance's `cost` attribute.\n",
    "\n",
    "Bonus(optional): Add a function of your choice to the instance. "
   ]
  },
  {
   "cell_type": "code",
   "execution_count": 67,
   "metadata": {},
   "outputs": [
    {
     "name": "stdout",
     "output_type": "stream",
     "text": [
      "$2.45\n"
     ]
    }
   ],
   "source": [
    "class Candy():\n",
    "    \n",
    "    def __init__(self, kind='chocolate', brand= 'Nestle', caramel = False):\n",
    "        self.type = kind\n",
    "        self.brand = brand\n",
    "        self.caramel = caramel\n",
    "\n",
    "setattr(Candy,\"cost\", \"$2.45\")  # <-- added the new attribute and value\n",
    "print(Candy.cost)\n"
   ]
  },
  {
   "cell_type": "markdown",
   "metadata": {},
   "source": [
    "16. Add an instance method to our class `Greet` that prints a greeting including `greeting` and the `name`. \n",
    "\n",
    "Example:\n",
    "\n",
    "`jen = Greet()`\n",
    "\n",
    "`jen.greet_method()` returns `\"Hello Jennifer\"`\n"
   ]
  },
  {
   "cell_type": "code",
   "execution_count": 80,
   "metadata": {},
   "outputs": [
    {
     "name": "stdout",
     "output_type": "stream",
     "text": [
      "Perry Howdy\n"
     ]
    }
   ],
   "source": [
    "class Greet():\n",
    "    \n",
    "    def __init__(self, name='Jennifer', language='english', greeting=\"Hello\"):\n",
    "        \n",
    "        self.language = language\n",
    "        self.greeting = greeting\n",
    "        self.name = name\n",
    "\n",
    "perry = Greet('Perry','english','Howdy')\n",
    "print(perry.name,perry.greeting)\n",
    "\n"
   ]
  },
  {
   "cell_type": "markdown",
   "metadata": {},
   "source": [
    "17. Add a line to the follwing code that will increment `employee_count` by 1 for **all** instances of `Employee`.\n",
    "\n",
    "The code should run each time an new instance of`Employee` is created. \n",
    "\n",
    "Hint: You don't need methods. Just a single expression will work. And it does NOT inlcude the word `self`. "
   ]
  },
  {
   "cell_type": "code",
   "execution_count": 81,
   "metadata": {},
   "outputs": [
    {
     "name": "stdout",
     "output_type": "stream",
     "text": [
      "1\n",
      "2\n"
     ]
    }
   ],
   "source": [
    "class Employee():\n",
    "    \n",
    "    # class variables. Applies to all instances of this class during creation.\n",
    "    yearly_bonus = 1.01 # not used anywhere in this example\n",
    "    \n",
    "    employee_count = 0 # This variable will change for all instances of the class.\n",
    "    \n",
    "       \n",
    "    def __init__(self,name, age, base_pay): # creates an instance of our object with unique attributes\n",
    "        \n",
    "        self.name = name\n",
    "        self.age = age\n",
    "        self.base_pay = base_pay\n",
    "       \n",
    "        Employee.employee_count += 1\n",
    "        \n",
    "        # your code here inside the __init__ method. \n",
    "        \n",
    "        \n",
    "emp1 = Employee('Matt', 32,40000)\n",
    "print(emp1.employee_count) # should be 1 if the __init__ method is working properly. \n",
    "\n",
    "emp2 = emp1 = Employee('Joe', 22,50000) # should be 2 if the __init__ method is working properly. \n",
    "print(emp2.employee_count)\n",
    "\n"
   ]
  },
  {
   "cell_type": "markdown",
   "metadata": {},
   "source": [
    "18 . Add a `static` method of your choice to the class below. \n",
    "\n",
    "Instaiate an object and call your method. \n",
    "\n",
    "What is a static method anyway? \n"
   ]
  },
  {
   "cell_type": "code",
   "execution_count": 150,
   "metadata": {},
   "outputs": [
    {
     "name": "stdout",
     "output_type": "stream",
     "text": [
      "Meryl Streep: This is my line...\n",
      "Experienced with 75 film productions.\n"
     ]
    }
   ],
   "source": [
    "class actress():\n",
    "          \n",
    "    def __init__(self, name = 'Meryl Streep'):\n",
    "        self.name = name\n",
    "        \n",
    "    def act(self, line):\n",
    "        print(f'{self.name}: {line}')\n",
    "        \n",
    "    @staticmethod\n",
    "    def work_level(films):\n",
    "        if films > 6:\n",
    "            print(\"Experienced with \" + str(films) + \" film productions.\")\n",
    "        else:\n",
    "            print(\"Inexperienced\")\n",
    "\n",
    "    \n",
    "meryl = actress()\n",
    "meryl.act('This is my line...')\n",
    "meryl.work_level(75)"
   ]
  },
  {
   "cell_type": "markdown",
   "metadata": {},
   "source": [
    "STATIC METHODS do not pass anything automatically, and doesn't depend on instance or class variable"
   ]
  },
  {
   "cell_type": "markdown",
   "metadata": {},
   "source": [
    "19. Create a `class` called Car that accepts 3 attributes (make, model and year). \n",
    "\n",
    "In the `__init__` method give your instance those three attributes. \n",
    "\n",
    "Instantiate (create) an object that is your dream car. \n",
    "\n",
    "Print the make of your dream car using the object attributes. \n",
    "\n",
    "Then call the dir() method on your new object. (See your attrs are now included!)"
   ]
  },
  {
   "cell_type": "code",
   "execution_count": 157,
   "metadata": {},
   "outputs": [
    {
     "name": "stdout",
     "output_type": "stream",
     "text": [
      "Any Any 2021\n"
     ]
    },
    {
     "data": {
      "text/plain": [
       "['__class__',\n",
       " '__delattr__',\n",
       " '__dict__',\n",
       " '__dir__',\n",
       " '__doc__',\n",
       " '__eq__',\n",
       " '__format__',\n",
       " '__ge__',\n",
       " '__getattribute__',\n",
       " '__gt__',\n",
       " '__hash__',\n",
       " '__init__',\n",
       " '__init_subclass__',\n",
       " '__le__',\n",
       " '__lt__',\n",
       " '__module__',\n",
       " '__ne__',\n",
       " '__new__',\n",
       " '__reduce__',\n",
       " '__reduce_ex__',\n",
       " '__repr__',\n",
       " '__setattr__',\n",
       " '__sizeof__',\n",
       " '__str__',\n",
       " '__subclasshook__',\n",
       " '__weakref__',\n",
       " 'ideal_car']"
      ]
     },
     "execution_count": 157,
     "metadata": {},
     "output_type": "execute_result"
    }
   ],
   "source": [
    "class Car():\n",
    "          \n",
    "    def __init__(self, make, model, year):\n",
    "        self.make = make\n",
    "        self.model = model\n",
    "        self.year = year\n",
    "     \n",
    "    def ideal_car(self):\n",
    "        return '{} {} {}'.format(self.make, self.model, self.year) \n",
    "        \n",
    "dream_car = Car('Any', 'Any',2021)\n",
    "print(Car.ideal_car(dream_car))\n",
    "dir(Car)"
   ]
  },
  {
   "cell_type": "markdown",
   "metadata": {},
   "source": [
    "20. Create a class called `Dice` that accepts a single argument called `number_of_dice`. \n",
    "\n",
    "Create an instance method called `roll`. \n",
    "\n",
    "`roll` should randomly pick a number for each die when called and print the results as a list. \n",
    "\n",
    "Create an instance of `Dice`. Then call `roll()` on your instance.\n",
    "\n",
    "Hint: Inside your class create an empty list called `dice`."
   ]
  },
  {
   "cell_type": "code",
   "execution_count": 223,
   "metadata": {},
   "outputs": [
    {
     "name": "stdout",
     "output_type": "stream",
     "text": [
      "[1, 2, 2, 6, 4]\n"
     ]
    }
   ],
   "source": [
    "from random import randrange\n",
    "\n",
    "class Dice():\n",
    "        \n",
    "    def __init__(self, number_of_dice):\n",
    "        self.number_of_dice = number_of_dice\n",
    "               \n",
    "    def roll(self):\n",
    "        counter = 0\n",
    "        rolled = []\n",
    "        while counter != self.number_of_dice:\n",
    "            die_roll = randrange(1,7)\n",
    "            rolled.append(die_roll)\n",
    "            counter = counter + 1    \n",
    "        return rolled\n",
    "\n",
    "die_count = Dice(5)\n",
    "print(Dice.roll(die_count))\n",
    "\n",
    "\n",
    "# print(randrange(1,7)) # randomly generates a number between 1 and 6"
   ]
  },
  {
   "cell_type": "markdown",
   "metadata": {},
   "source": [
    "Bonus(optional):\n",
    "\n",
    "0. Create a class of your choice.\n",
    "1. Give it instance variables and class variables. \n",
    "2. Give it a classmethod. \n",
    "3. Give it a regular method (instance method).\n",
    "4. Give it a static method. \n",
    "\n",
    "Show how each works by printing an example. "
   ]
  },
  {
   "cell_type": "code",
   "execution_count": null,
   "metadata": {},
   "outputs": [],
   "source": []
  }
 ],
 "metadata": {
  "kernelspec": {
   "display_name": "Python 3",
   "language": "python",
   "name": "python3"
  },
  "language_info": {
   "codemirror_mode": {
    "name": "ipython",
    "version": 3
   },
   "file_extension": ".py",
   "mimetype": "text/x-python",
   "name": "python",
   "nbconvert_exporter": "python",
   "pygments_lexer": "ipython3",
   "version": "3.8.5"
  }
 },
 "nbformat": 4,
 "nbformat_minor": 4
}
